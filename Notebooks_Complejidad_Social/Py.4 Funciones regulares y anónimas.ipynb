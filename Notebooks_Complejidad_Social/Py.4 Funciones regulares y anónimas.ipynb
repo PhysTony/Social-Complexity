{
 "cells": [
  {
   "cell_type": "raw",
   "id": "94ea403d",
   "metadata": {},
   "source": []
  },
  {
   "cell_type": "markdown",
   "id": "8068b300",
   "metadata": {},
   "source": [
    "# Taller de Programación en Python:  Complejidad Social y Modelos Computacionales\n",
    "## Lección Py.4 Funciones regulares y anónimas\n",
    "### Impartido por: Gonzalo Castañeda\n",
    "\n",
    "#### Basado en: McKinney, Wes. 2018. “Python for Data Analysis. Data Wrangling with Pandas, NumPy, and IPython”, 2a edición, California USA: O’Reilly Media, Inc.\n",
    "Cap. 3. Secciones 3.2 y 3.3  "
   ]
  },
  {
   "cell_type": "markdown",
   "id": "b22f89cb",
   "metadata": {},
   "source": [
    "## (1) Funciones"
   ]
  },
  {
   "cell_type": "markdown",
   "id": "e2336ae9",
   "metadata": {},
   "source": [
    "Muy convenientes cuando un conjunto de instrucciones se repiten varias veces en un código"
   ]
  },
  {
   "cell_type": "code",
   "execution_count": null,
   "id": "e155ef44",
   "metadata": {},
   "outputs": [],
   "source": [
    "def my_function(x, y, z=1.5):      # los dos primeros argumentos son posicionales, \n",
    "     if z > 1:                     # el tercer argumento es un keyword (valor de default, va al final)\n",
    "          return z * (x + y)\n",
    "     else:\n",
    "          return z / (x + y)           \n",
    "                                # Si no se define en la función un ‘return’, la función regresa None"
   ]
  },
  {
   "cell_type": "markdown",
   "id": "75807256",
   "metadata": {},
   "source": [
    "Formas de invocar la función:"
   ]
  },
  {
   "cell_type": "code",
   "execution_count": null,
   "id": "f7ba61f3",
   "metadata": {},
   "outputs": [],
   "source": [
    "my_function(5, 6, z=0.7)  "
   ]
  },
  {
   "cell_type": "code",
   "execution_count": null,
   "id": "4844301f",
   "metadata": {},
   "outputs": [],
   "source": [
    "my_function(3.14, 7, 3.5)    "
   ]
  },
  {
   "cell_type": "code",
   "execution_count": null,
   "id": "48055a82",
   "metadata": {},
   "outputs": [],
   "source": [
    "my_function(x=5, y=6, z=7)\n"
   ]
  },
  {
   "cell_type": "markdown",
   "id": "2672c02c",
   "metadata": {},
   "source": [
    "## (2) Alcance de las funciones: Local vs global"
   ]
  },
  {
   "cell_type": "markdown",
   "id": "13f634af",
   "metadata": {},
   "source": [
    "Las variables que se definen dentro de una función solo tienen alcance local.\n",
    "Cuando las instrucciones de la función terminan, su valor se extingue"
   ]
  },
  {
   "cell_type": "code",
   "execution_count": null,
   "id": "b9ebcf5c",
   "metadata": {},
   "outputs": [],
   "source": [
    "def func():\n",
    "      a = []                # se crea una lista y se le asignan números consecutivos:  ‘a’ es local\n",
    "      for i in range(5):\n",
    "        a.append(i)\n",
    "func()                      # se invoca a la función"
   ]
  },
  {
   "cell_type": "code",
   "execution_count": null,
   "id": "c4a25ec8",
   "metadata": {
    "scrolled": true
   },
   "outputs": [],
   "source": [
    "# Debe marcar error ya que la lista a se define dentro de la función\n",
    "a                           "
   ]
  },
  {
   "cell_type": "code",
   "execution_count": null,
   "id": "7758b3e9",
   "metadata": {},
   "outputs": [],
   "source": [
    "a = []         # como ‘a’ está fuera de la función su valor es global, así que no se destruye su valor\n",
    "\n",
    "def func():\n",
    "    for i in range(5):\n",
    "       a.append(i)          # se va creando de forma iterativa una lista  \n",
    "func()"
   ]
  },
  {
   "cell_type": "code",
   "execution_count": null,
   "id": "4b5ac11a",
   "metadata": {},
   "outputs": [],
   "source": [
    "# Se establece una la lista de cinco elementos\n",
    "a"
   ]
  },
  {
   "cell_type": "markdown",
   "id": "256dad2b",
   "metadata": {},
   "source": [
    "Una variable puede definirse como global al interior de una función con ‘global a’ \n",
    "antes de invocarla.\n",
    "En general, no es conveniente usar muchas variables globales en un programa "
   ]
  },
  {
   "cell_type": "code",
   "execution_count": null,
   "id": "f9431e46",
   "metadata": {},
   "outputs": [],
   "source": [
    "a = None\n",
    "def variable_a_global():\n",
    "    global a            # Con este comando el objeto a puede ser identificado fuera de la función\n",
    "    a = []\n",
    "variable_a_global()"
   ]
  },
  {
   "cell_type": "code",
   "execution_count": null,
   "id": "185304e5",
   "metadata": {},
   "outputs": [],
   "source": [
    "# aparece una lista vacía\n",
    "a"
   ]
  },
  {
   "cell_type": "markdown",
   "id": "c052391d",
   "metadata": {},
   "source": [
    "## (3) Regresar varias variables de una función"
   ]
  },
  {
   "cell_type": "code",
   "execution_count": null,
   "id": "3e60cc7c",
   "metadata": {},
   "outputs": [],
   "source": [
    "# En una función se pueden regresar distintas variables al mismo tiempo\n",
    "def f():\n",
    "     a = 5\n",
    "     b = 6\n",
    "     c = 7\n",
    "     return a, b, c"
   ]
  },
  {
   "cell_type": "code",
   "execution_count": null,
   "id": "b655d617",
   "metadata": {},
   "outputs": [],
   "source": [
    "a, b, c = f()       # en realidad lo que se regresa es una tupla que se desempaca en tres variable\n",
    "b"
   ]
  },
  {
   "cell_type": "code",
   "execution_count": null,
   "id": "d37ed3b8",
   "metadata": {},
   "outputs": [],
   "source": [
    "# Si se quiere regresar como diccionario, habría entonces que escribir\n",
    "def f():\n",
    "    a = 5\n",
    "    b = 6\n",
    "    c = 7\n",
    "    return {'a' : a, 'b' : b, 'c' : c}\n",
    "f()"
   ]
  },
  {
   "cell_type": "code",
   "execution_count": null,
   "id": "9c0bcfe5",
   "metadata": {},
   "outputs": [],
   "source": [
    "# También le podemos asignar un nombre al nuevo diccionario\n",
    "dic1 = f()   \n",
    "dic1"
   ]
  },
  {
   "cell_type": "code",
   "execution_count": null,
   "id": "3c3e1278",
   "metadata": {},
   "outputs": [],
   "source": [
    "# Un ejemplo más sofisticado de una función que regresa dos resultados\n",
    "def twofunc(anotherlist):\n",
    "    values1 = []\n",
    "    for i in anotherlist:\n",
    "        values1.append(i*5)                    \n",
    "    mean = sum(values1)/len(values1)\n",
    "    return values1, mean\n",
    "# llamamos a la función usando como argumento una lista y los resultados los asignamos a\n",
    "# dos variables\n",
    "output1, output2 = twofunc([1,2,3,4])\n",
    "print('imprime la lista:', output1)\n",
    "print('imprime la media:', output2)"
   ]
  },
  {
   "cell_type": "markdown",
   "id": "730ba52b",
   "metadata": {},
   "source": [
    "## (4) Las funciones como objetos"
   ]
  },
  {
   "cell_type": "markdown",
   "id": "6ec763f4",
   "metadata": {},
   "source": [
    "A las funciones se les da un tratamiento de objetos, como a las estructuras de datos antes vistas "
   ]
  },
  {
   "cell_type": "code",
   "execution_count": null,
   "id": "72b776ec",
   "metadata": {},
   "outputs": [],
   "source": [
    "# Supón que queremos limpiar una lista de 'strings' que presenta 'typos':\n",
    "states = ['  Alabama ', 'Georgia!', 'Georgia', 'georgia', 'FlOrIda', 'south carolina##', \n",
    "          'West virginia? ']  "
   ]
  },
  {
   "cell_type": "code",
   "execution_count": null,
   "id": "812877c1",
   "metadata": {},
   "outputs": [],
   "source": [
    "# En este caso conviene importar métodos de la librería de 'expresiones regulares' (re)\n",
    "# que ayuda a trabajar con textos.\n",
    "\n",
    "import re\n",
    "def clean_strings(strings):\n",
    "         result = []                              # creamos una lista vacía en donde poner los cambios\n",
    "         for value in strings:\n",
    "              value = value.strip()               # quita espacios en blanco\n",
    "              value = re.sub('[!#?]', '', value)  # remueve símbolos raros\n",
    "              value = value.title()               # usa formato de título, primera letra con mayúscula\n",
    "              result.append(value)\n",
    "         return result"
   ]
  },
  {
   "cell_type": "code",
   "execution_count": null,
   "id": "dea4c6e0",
   "metadata": {},
   "outputs": [],
   "source": [
    "clean_strings(states)    # invocamos la función \n",
    "# los nombres de los estados de USA ya aparecen limpios y con mayusculas iniciales"
   ]
  },
  {
   "cell_type": "markdown",
   "id": "e23412a2",
   "metadata": {},
   "source": [
    "## (5) Funciones anónimas (lambda) "
   ]
  },
  {
   "cell_type": "markdown",
   "id": "0d26b769",
   "metadata": {},
   "source": [
    "Forma de construir funciones en una sola línea usando el comando lambda.\n",
    "Después de lambda se especifica la variable a la que se le aplica la operación que se establce con la función"
   ]
  },
  {
   "cell_type": "code",
   "execution_count": null,
   "id": "a33dddee",
   "metadata": {},
   "outputs": [],
   "source": [
    "# La forma de construir una función en el esquema tradicional sería:\n",
    "def short_function(x):\n",
    "  return x * 2\n",
    "short_function(3)"
   ]
  },
  {
   "cell_type": "code",
   "execution_count": null,
   "id": "56996cff",
   "metadata": {},
   "outputs": [],
   "source": [
    "# Ejemplo 1:\n",
    "# se especifica, en primér término, la variable a la que se aplica la operación\n",
    "equiv_anon = lambda x: x * 2  \n",
    "equiv_anon(3)               # se invoca la función"
   ]
  },
  {
   "cell_type": "code",
   "execution_count": null,
   "id": "20351a85",
   "metadata": {},
   "outputs": [],
   "source": [
    "# Ejemplo 2:\n",
    "ints = [4, 0, 1, 5, 6]  \n",
    "al_cuadrado = lambda x: [x * 2 for x in ints] # en esta sintaxis la instrucción viene antes que el for\n",
    "# al_cuadrado no es una función como tal porque no se declara su nombre con def:         \n",
    "al_cuadrado(ints)"
   ]
  },
  {
   "cell_type": "markdown",
   "id": "a5f678f4",
   "metadata": {},
   "source": [
    "## (6) Generadores"
   ]
  },
  {
   "cell_type": "code",
   "execution_count": null,
   "id": "e29369cb",
   "metadata": {},
   "outputs": [],
   "source": [
    "# En Python existe un protocolo para iterar sobre secuencias (objetos en lista, líneas en un archivo, \n",
    "# etc)\n",
    "some_dict = {'a': 1, 'b': 2, 'c': 3}   \n",
    "for key in some_dict:\n",
    "        print(key)\n",
    "dict_iterator = iter(some_dict)                     # los key son los iteradores de un diccionario\n",
    "list(dict_iterator)                                 # los definimos en una lista"
   ]
  },
  {
   "cell_type": "code",
   "execution_count": null,
   "id": "0b168725",
   "metadata": {},
   "outputs": [],
   "source": [
    "# Un generador es una forma concisa de obtener un objeto iterable, mediante el comando: yield\n",
    "def squares(n=10):\n",
    "      print('Generating squares from 1 to {0}'.format(n ** 2))     \n",
    "      for i in range(1, n + 1):\n",
    "          yield i ** 2    \n",
    "                # el iterador se crea en memoria, pero no se usa o imprime hasta que sea invocado     \n",
    "gen = squares()     # la función squares() genera al iterador                            \n",
    "for x in gen:\n",
    "       print(x, end=' ')          # el segundo argumento es para imprimir en la misma línea"
   ]
  },
  {
   "cell_type": "code",
   "execution_count": null,
   "id": "05052138",
   "metadata": {},
   "outputs": [],
   "source": [
    "# Una manera más rápida de obtener generadores sería mediante la siguiente expresión:\n",
    "gen = (x ** 2 for x in range(15))"
   ]
  },
  {
   "cell_type": "code",
   "execution_count": null,
   "id": "d26d4545",
   "metadata": {},
   "outputs": [],
   "source": [
    "list(gen)                                 # si no lo transformo en una lista no lo puedo usar"
   ]
  },
  {
   "cell_type": "markdown",
   "id": "dae4a437",
   "metadata": {},
   "source": [
    "### Las expresiones de generadores también pueden usarse como compresiones:\n"
   ]
  },
  {
   "cell_type": "code",
   "execution_count": null,
   "id": "4308cb2e",
   "metadata": {},
   "outputs": [],
   "source": [
    "sum(x ** 2 for x in range(100))"
   ]
  },
  {
   "cell_type": "code",
   "execution_count": null,
   "id": "73ed2165",
   "metadata": {},
   "outputs": [],
   "source": [
    "dict((i, i **2) for i in range(5))"
   ]
  },
  {
   "cell_type": "code",
   "execution_count": null,
   "id": "2433ffc8",
   "metadata": {},
   "outputs": [],
   "source": [
    "# La librería itertools  tiene una colección de generadores\n",
    "import itertools  \n",
    "first_letter = lambda x: x[0]  \n",
    "names = ['Alan', 'Adam', 'Wes', 'Will', 'Robert', 'Richard']\n",
    "for letter, name in itertools.groupby(names, first_letter):   \n",
    "                                     # va creando listas de nombres de acuerdo con letra inicial\n",
    "     print(letter, list(name))      # se le pone list, ya que name es un generador\n",
    "    # va formando la lista hasta que aparezca una letra diferente (checar: cambia Robert por Albert)"
   ]
  },
  {
   "cell_type": "markdown",
   "id": "fce0f6af",
   "metadata": {},
   "source": [
    "## (7) Manejo de errores y excepciones"
   ]
  },
  {
   "cell_type": "markdown",
   "id": "e7b51340",
   "metadata": {},
   "source": [
    "Cuando hay un error en el código y no queremos que se detenga  la corrida, \n",
    "hay que usar el esquema de excepciones"
   ]
  },
  {
   "cell_type": "code",
   "execution_count": null,
   "id": "e24bac91",
   "metadata": {},
   "outputs": [],
   "source": [
    "# Por ejemplo: si se puede poner el valor real hace la operación, de lo  contrario \n",
    "# puede enviar un mensaje, pero no interrumpe el código\n",
    "def attempt_float(x):      \n",
    "    try:\n",
    "        return float(x)\n",
    "    except:\n",
    "       return print('{0} no es un número flotante'.format(x))\n",
    "                          # Alternativa: print ( x + ' ' + \"no es un número flotante\")\n",
    "attempt_float('1.2345')       "
   ]
  },
  {
   "cell_type": "code",
   "execution_count": null,
   "id": "b365effc",
   "metadata": {},
   "outputs": [],
   "source": [
    "attempt_float('something')   "
   ]
  },
  {
   "cell_type": "code",
   "execution_count": null,
   "id": "8e084d06",
   "metadata": {},
   "outputs": [],
   "source": []
  }
 ],
 "metadata": {
  "kernelspec": {
   "display_name": "Python 3 (ipykernel)",
   "language": "python",
   "name": "python3"
  },
  "language_info": {
   "codemirror_mode": {
    "name": "ipython",
    "version": 3
   },
   "file_extension": ".py",
   "mimetype": "text/x-python",
   "name": "python",
   "nbconvert_exporter": "python",
   "pygments_lexer": "ipython3",
   "version": "3.9.7"
  }
 },
 "nbformat": 4,
 "nbformat_minor": 5
}
