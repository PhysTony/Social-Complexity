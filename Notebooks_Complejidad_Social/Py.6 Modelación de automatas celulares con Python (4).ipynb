{
 "cells": [
  {
   "cell_type": "raw",
   "id": "d7874d8e",
   "metadata": {},
   "source": []
  },
  {
   "cell_type": "markdown",
   "id": "2075accc",
   "metadata": {},
   "source": [
    "# Taller de programación en Python: Complejidad Social y Modelos Computacionales\n",
    "## Lección Py.6 Modelación de Autómatas Celulares\n",
    "### Impartido por: Gonzalo Castañeda\n",
    "Basado en: Downey, Allen B. 2016, \"Think Complexity\", Needham, Massachusetts: Green Tea Press\n",
    "Cap 5 y 6"
   ]
  },
  {
   "cell_type": "code",
   "execution_count": null,
   "id": "9261d84d",
   "metadata": {},
   "outputs": [],
   "source": [
    "# Importamos las lbrerías necesarias\n",
    "import matplotlib.pyplot as plt\n",
    "import numpy as np"
   ]
  },
  {
   "cell_type": "code",
   "execution_count": null,
   "id": "41768678",
   "metadata": {},
   "outputs": [],
   "source": [
    "# Veamos como trabaja una regla de transición con un autómata celular de 0-dimensiones (0-D)\n",
    "# en el que un agente va cambiando su estado (atributo) a través del tiempo mediante una\n",
    "# regla sencilla de comportamiento\n",
    "n = 10                    # número de periodos a analizar\n",
    "x = np.zeros(n)           # se crea un vector de ceros (arreglo en numpy)\n",
    "print(x)"
   ]
  },
  {
   "cell_type": "code",
   "execution_count": null,
   "id": "90f8f723",
   "metadata": {},
   "outputs": [],
   "source": [
    "# Establecemos la regla de transición en la que el operador % (mod) genera el residuo del \n",
    "# primer paso de la división: 1%2 = 1, ya que 1/2 = 0.5 y el residuo de 0 es 1); \n",
    "# 2%2 = 0  ya que 2/2 = 1 y el residuo de 1 es 0; 3%2 = 1.5 y el residuo de 1 es 1 )\n",
    "# Esta regla de 'paridad'  asigna un 1 a números nones y un 0 a números pares\n",
    "x[1] = (x[0] + 1) % 2\n",
    "x[1]"
   ]
  },
  {
   "cell_type": "code",
   "execution_count": null,
   "id": "c6bdeb3e",
   "metadata": {},
   "outputs": [],
   "source": [
    "# Esta regla se aplica iterativamente para todos los periodos (del 1 al 9 cuando n = 10)\n",
    "for i in range(1, n):\n",
    "    x[i] = (x[i-1] + 1) % 2   \n",
    "print(x)                      # recordar que el primer elemento de la lista corresponde a x[0] = 0\n",
    "# Se trata, entonces, de un objeto dinámico cuyo estado cambia intermitentemente entre 0 y 1,\n",
    "# y en este sentido se dice que parpadea en su comportamiento (blink)"
   ]
  },
  {
   "cell_type": "markdown",
   "id": "a6a31e97",
   "metadata": {},
   "source": [
    "## (2)  Autómata celular unidimensional: CA 1-D "
   ]
  },
  {
   "cell_type": "code",
   "execution_count": null,
   "id": "8fc4d3e3",
   "metadata": {},
   "outputs": [],
   "source": [
    "# Para analizar el comportamiento dinámico, en este caso,  construimos un arreglo\n",
    "# bidimensional en donde los renglones corresponden al tiempo y las columnas al estado de cada célula\n",
    "rows = 5\n",
    "cols = 11\n",
    "array = np.zeros((rows, cols) , dtype=int)   \n",
    "                    # en el segundo argumento se especifica que se trata de números enteros  \n",
    "array[0, 5] = 1     # en las condiciones iniciales se estabece un CA 1-D de 11 celulas con 1 en\n",
    "                    # la columna 5 del renglón inicial [0]\n",
    "print(array)"
   ]
  },
  {
   "cell_type": "code",
   "execution_count": null,
   "id": "6f300f70",
   "metadata": {},
   "outputs": [],
   "source": [
    "# Para graficar usamos una librería de pyplot (imshow) que permite cambiar dígitos a imágenes \n",
    "# (cuadros). la función cmap genera un mapa de color en el que las células (celdas) \n",
    "# con 1 ('on') tienen un tono azul fuerte y las de 0 ('off') un tono azul claro; \n",
    "def plot_ca(array):\n",
    "    plt.imshow(array, cmap='Blues')"
   ]
  },
  {
   "cell_type": "code",
   "execution_count": null,
   "id": "ca96be92",
   "metadata": {},
   "outputs": [],
   "source": [
    "# El diagrama del arreglo con las condiciones iniciales, pero\n",
    "# sin aplicar aún la regla de transición quedaría: \n",
    "plot_ca(array)"
   ]
  },
  {
   "cell_type": "markdown",
   "id": "8c10f4c1",
   "metadata": {},
   "source": [
    "Aplicamos de forma iterativa la regla de transición del CA de 1-D en el que se aplica la\n",
    "regla de paridad a la suma de los estados de los integrantes de cada vecindad con k = 3.\n",
    "Es decir, se define la función de actualización del CA, especificando como argumento el estado de las células de la vecindad en el periodo (t)"
   ]
  },
  {
   "cell_type": "code",
   "execution_count": null,
   "id": "f81914cc",
   "metadata": {},
   "outputs": [],
   "source": [
    "def step(array, t):\n",
    "    \"\"\"Calcular el renglón (periodo) t de un CA.\n",
    "    \"\"\"\n",
    "    rows, cols = array.shape           # Este paso no es necesario, solo para recordar\n",
    "    row = array[t-1]                   # En row se guardan los estado que tenían las celdas en t - 1\n",
    "    for j in range(1, cols):\n",
    "        elts = row[j-1:j+2]            # Se supone que en este CAS las vecindades son de tres miembros\n",
    "                                       # uno antes y uno después de la celula central (j)\n",
    "        array[t, j] = sum(elts) % 2    # sumamos los valores de 1 y establecemo la regla de paridad"
   ]
  },
  {
   "cell_type": "code",
   "execution_count": null,
   "id": "503ed33a",
   "metadata": {},
   "outputs": [],
   "source": [
    "# por lo pronto checamos el segundo renglón t = 1\n",
    "step(array, 1)\n",
    "plot_ca(array)"
   ]
  },
  {
   "cell_type": "markdown",
   "id": "6a3e535b",
   "metadata": {},
   "source": [
    "Automáta celular de 1-D con regla de transición de 'paridad' que usa en su algoritmo un loop\n",
    "para actualizar los estados:"
   ]
  },
  {
   "cell_type": "code",
   "execution_count": null,
   "id": "6b591a6f",
   "metadata": {},
   "outputs": [],
   "source": [
    "# Iteramos con un for para aplicar la regla de transición en cada paso (periodo)\n",
    "for t in range(1, rows):\n",
    "    step(array, t)\n",
    "# Creamos la imagen de todo el arreglo bidimensional, en el que renglones corresponden al tiempo\n",
    "plot_ca(array)"
   ]
  },
  {
   "cell_type": "markdown",
   "id": "7ec16896",
   "metadata": {},
   "source": [
    "## (3) Un algoritmo alternativo: el método de 'correlación cruzada'"
   ]
  },
  {
   "cell_type": "markdown",
   "id": "f0d945a2",
   "metadata": {},
   "source": [
    "Este algoritmo alternativo puede ser mucho más rápido.\n",
    "La 'correlación cruzada' de un arreglo $a$ con una ventana (plantilla), w, genera un nuevo arreglo, $c$, cuyo k-ésimo elemento se define de la siguiente manera: \n",
    "\n",
    "$ c_k = \\sum_{n=0}^{N-1} a_{n+k} \\cdot w_n $\n",
    "\n",
    "En Python se calcula el elemento '$k$' de la siguiente forma:"
   ]
  },
  {
   "cell_type": "code",
   "execution_count": null,
   "id": "5c64d63c",
   "metadata": {},
   "outputs": [],
   "source": [
    "# Creamos una función para el cálculo de la 'correlación cruzada'\n",
    "def c_k(a, w, k):\n",
    "    \"\"\"Calcular el elemento k de la 'correlación cruzada' entre a y w.\n",
    "    \"\"\"\n",
    "    N = len(w)                     # tamaño de la ventana\n",
    "    return sum(a[k:k+N] * w)       # aplicamos la sumatoria, notar que el tamaño de la ventana\n",
    "                                   # debe coincidir con el tamaño del 'slicing' del arreglo"
   ]
  },
  {
   "cell_type": "code",
   "execution_count": null,
   "id": "80e98c97",
   "metadata": {},
   "outputs": [],
   "source": [
    "# Veamos que efectivamente funciona:\n",
    "# En primer término creamos un arrego unidimensional con diez dígitos\n",
    "N = 10\n",
    "row = np.arange(N, dtype=int)\n",
    "print(row)"
   ]
  },
  {
   "cell_type": "code",
   "execution_count": null,
   "id": "d555975e",
   "metadata": {},
   "outputs": [],
   "source": [
    "# Y definimos a la ventana con tres elementos\n",
    "window = [1, 1, 1]\n",
    "print(window)"
   ]
  },
  {
   "cell_type": "code",
   "execution_count": null,
   "id": "f135abea",
   "metadata": {},
   "outputs": [],
   "source": [
    "# Con este tipo de ventana unitaria, cada elemento de c es la suma de los estados de k y de los dos\n",
    "# estados subsecuentes del arreglo. Asi para k = 0 se tiene que\n",
    "c_k(row, window, 0)                   # Checar que efectivamente 0 + 1 + 2 = 3"
   ]
  },
  {
   "cell_type": "code",
   "execution_count": null,
   "id": "30f1b10a",
   "metadata": {},
   "outputs": [],
   "source": [
    "# Mientras que para k = 1 \n",
    "c_k(row, window, 1)                   # Checar que efectivamente 1 + 2 + 3 = 6"
   ]
  },
  {
   "cell_type": "code",
   "execution_count": null,
   "id": "de6a810d",
   "metadata": {},
   "outputs": [],
   "source": [
    "# La siguiente función calcula todos los elementos k de c en los que triadas del arreglo\n",
    "# se traslapan con la ventana\n",
    "def correlate(row, window):\n",
    "    \"\"\"Calcular la correlación cruzada de a y w.\n",
    "    \"\"\"\n",
    "    cols = len(row)\n",
    "    N = len(window)\n",
    "    c = [c_k(row, window, k) for k in range(cols-N+1)]   # aplicamos una compresión de instrucciones\n",
    "                                                         # para crear la lista c\n",
    "                                                         # si N = 3 el rango sería 10-3 + 1 =  8\n",
    "                                                         # es decir, toma la última triada posible\n",
    "    return np.array(c)                                   # convertimos la lista en un arreglo\n",
    "c = correlate(row, window)     # invocamos la función\n",
    "print(c)"
   ]
  },
  {
   "cell_type": "code",
   "execution_count": null,
   "id": "30f70aa4",
   "metadata": {},
   "outputs": [],
   "source": [
    "# Debido a que esta operación es común en muchas aplicaciones, ya existe en Numpy un método\n",
    "# para esta operación definido como'correlate'\n",
    "c = np.correlate(row, window, mode='valid')    # Notar que se obtiene el mismo resultado que arriba\n",
    "print(c)                                       # recordar que aquí row es el nombre del arreglo"
   ]
  },
  {
   "cell_type": "markdown",
   "id": "6029f435",
   "metadata": {},
   "source": [
    "El modo = 'valid' en np. correlate opera solo con las triadas traslapadas con la ventana. \n",
    "El problema es que el arreglo final con los resultados tiene una dimensión menor a la del \n",
    "arreglo inicial; se sugiere entonces usar el modo = 'same' que añade valores cero en ambos \n",
    "lados del arreglo inicial. Ojo: se estaría estudiando un CA con fronteras (i.e., no-periódico) ya\n",
    "que las células en la frontera tienen menos vecinos"
   ]
  },
  {
   "cell_type": "code",
   "execution_count": null,
   "id": "96262d76",
   "metadata": {},
   "outputs": [],
   "source": [
    "c = np.correlate(row, window, mode='same')\n",
    "print(c)\n",
    "# Por lo tanto, para contruir una función 'def correlate' equivalente tendríamos que usar np.pad \n",
    "# que agrega ceros al inicio y al final de `row`: np.pad(row, 1, 'constant')"
   ]
  },
  {
   "cell_type": "markdown",
   "id": "3133417a",
   "metadata": {},
   "source": [
    "Automáta celular de 1-D con regla de 'paridad' que usa en su algoritmo el método correlate de numpy para calcular la suma de los estados en la vecindad"
   ]
  },
  {
   "cell_type": "code",
   "execution_count": null,
   "id": "554881e3",
   "metadata": {},
   "outputs": [],
   "source": [
    "# Volvemos a hacer todo el proceso con el primer ejemplo, pero ahora usando el método \n",
    "# 'correlate' de Numpy\n",
    "# primer paso: inicialización del arreglo bidimensional tiempo (renglones) - espacio (columnas)\n",
    "rows = 5\n",
    "cols = 11\n",
    "array = np.zeros((rows, cols), dtype=int)\n",
    "array[0, 5] = 1\n",
    "print(array)"
   ]
  },
  {
   "cell_type": "code",
   "execution_count": null,
   "id": "f8f0a2b3",
   "metadata": {},
   "outputs": [],
   "source": [
    "# Segundo paso: actualización de los renglones del arreglo al aplicar la regla de transición de\n",
    "# paridad en cada triada traslapada que se obtienen con 'correlate'\n",
    "def step2(array, t, window=[1,1,1]):               # Aplicación de la regla de transición\n",
    "    \"\"\"Calcular row t de un CA.\n",
    "    \"\"\"\n",
    "    row = array[t-1]\n",
    "    c = np.correlate(row, window, mode='same')     # aquí se obtienen las sumas en las vecindades\n",
    "    array[t] = c % 2                               # aquí se aplica la regla de paridad para\n",
    "                                                   # modificar el estado de la celda central de\n",
    "                                                   # cada vecindad"
   ]
  },
  {
   "cell_type": "code",
   "execution_count": null,
   "id": "f1831b1c",
   "metadata": {},
   "outputs": [],
   "source": [
    "# Tercer paso: observación de resultados (descripción gráfica)\n",
    "for t in range(1, rows):\n",
    "    step2(array, t)           # Se invoca a la regla de transición en cada periodo\n",
    "plot_ca(array)                # Notar que el algoritmo es mucho más compacto"
   ]
  },
  {
   "cell_type": "markdown",
   "id": "b946acd7",
   "metadata": {},
   "source": [
    "## (4) Un algoritmo más general que puede aplicarse a cualquier CA 1-D usando las Tablas de transiciones de los estados"
   ]
  },
  {
   "cell_type": "markdown",
   "id": "c90a437c",
   "metadata": {},
   "source": [
    "Los algoritmos anteriores son apropiados cuando la regla de transición es de tipo 'totalistica'; \n",
    "es decir, hase uso de la suma de los estados de los vecinos sin importar la posición que tienen los\n",
    "0s y los 1s en las triadas. \n",
    "En algunos CA, y sus reglas de transición, las triadas 001 y 100 difieren por la posición que tienen los 1s a pesar de que la suma de los estados sean iguales. "
   ]
  },
  {
   "cell_type": "markdown",
   "id": "4b8e1875",
   "metadata": {},
   "source": [
    "Clasificación de los CA 1-D:\n",
    "    \n",
    "La siguiente función define a los valores binarios que adoptan las células \n",
    "centrales de las 8 posibles configuraciones de un CA 1-D una vez que se da como insumo el\n",
    "valor decimal con que se define a la regla de transición"
   ]
  },
  {
   "cell_type": "code",
   "execution_count": null,
   "id": "84bca4ef",
   "metadata": {},
   "outputs": [],
   "source": [
    "# Transformación de números decimales a binarios:\n",
    "def make_table(rule):\n",
    "    \"\"\"Crea la tabla (los valores binarios \n",
    "         asignados a c/u de las 8 configuraciones)\n",
    "         a partir de las reglas\n",
    "         de transición (enteros entre 0 y 255)\n",
    "  \n",
    "    returns: un arreglo de 8 0s and 1s\n",
    "    \"\"\"\n",
    "    rule = np.array([rule], dtype=np.uint8) # crea un arreglo 1 x 1 con el número como único elemento\n",
    "    table = np.unpackbits(rule)[::-1]       # descompone al número decimal en notación binaria\n",
    "    return table\n",
    "# Veamos un ejemplo:\n",
    "table = make_table(150)\n",
    "print(table)"
   ]
  },
  {
   "attachments": {
    "image.png": {
     "image/png": "[encoded data removed]"
    }
   },
   "cell_type": "markdown",
   "id": "7c19e04e",
   "metadata": {},
   "source": [
    "#### Denominación de las reglas para autómatas celulares 1-D\n",
    "![image.png](attachment:image.png)"
   ]
  },
  {
   "cell_type": "markdown",
   "id": "66d2df64",
   "metadata": {},
   "source": [
    "Truco: si correlacionamos al arreglo con la ventana [4, 2, 1] establecemos el índice de la tabla\n",
    "de transiciones que corresponde a la triada de vecinos en custión.\n",
    "Por ejemplo: (000) * [4,2,1] = 0 = primera configuración de la tabla\n",
    "Otro ejemplo: (111) * [4,2,1] = 7 = octava configuración de la tabla"
   ]
  },
  {
   "attachments": {
    "image.png": {
     "image/png": "[encoded data removed]"
    }
   },
   "cell_type": "markdown",
   "id": "9bf71afc",
   "metadata": {},
   "source": [
    "#### Tabla de una regla de transición para un CA 1-D. Las posiciones de las triadas se identifican con el índice que se genera con las correlaciones cruzadas:\n",
    "![image.png](attachment:image.png)\n"
   ]
  },
  {
   "cell_type": "code",
   "execution_count": null,
   "id": "91f29a57",
   "metadata": {},
   "outputs": [],
   "source": [
    "window = [4, 2, 1]\n",
    "c = np.correlate(array[0], window, mode='same')\n",
    "print(array[0])    # Estado inicial de las células\n",
    "print(c)           # Muestra la posición de la Tabla de transición a la que corresponde la triada \n",
    "                   # asociada a cada célula central\n",
    "                   # Por ejemplo, la celda antes del uno en las condiciones iniciales\n",
    "                   # forma parte de una trida (001), la cual corresponde a la segunda\n",
    "                   # configuración de la table (posición 1); la triada (010) corresponde a la\n",
    "                   # tercera configuración de la tabla (posición 2)"
   ]
  },
  {
   "cell_type": "code",
   "execution_count": null,
   "id": "1ad438cd",
   "metadata": {},
   "outputs": [],
   "source": [
    "# De acuerdo con estas posiciones, los estados asociados en el siguiente periodo vienen dados por:\n",
    "array[1] = table[c]      # En table estan los valores del periodo siguiente\n",
    "                         # asociados a las posiciones 0 1, 2 y 4\n",
    "                         # Recordar que para regla 150: table = [0 1 1 0 1 0 0 1]\n",
    "                         # valor 1 en c (posición) corresponde al valor 1 el la Tabla; \n",
    "                         # valor 2 en c al 1 y valor 4 en c al 1\n",
    "print(array[1])          # por lo que quedan tres 1s en las células centrales"
   ]
  },
  {
   "cell_type": "code",
   "execution_count": null,
   "id": "5d9d76f0",
   "metadata": {},
   "outputs": [],
   "source": [
    "# Por lo tanto, la función que aplica la regla de transicióm en cada periodo es la siguiente\n",
    "def step3(array, t, window=[4,2,1]):\n",
    "    \"\"\"Calcular el renglón t de un CA.\n",
    "    \"\"\"\n",
    "    row = array[t-1]                               # guardamos los estados actuales en un arreglo row \n",
    "    c = np.correlate(row, window, mode='same')     # generamos los índices de posición\n",
    "    array[i] = table[c]                            # actualizamos el arreglo"
   ]
  },
  {
   "cell_type": "code",
   "execution_count": null,
   "id": "177430ab",
   "metadata": {},
   "outputs": [],
   "source": [
    "# Actualizamos para cada periodo la aplicación de la regla y observamos los resultados\n",
    "# en un diagrama espacio - tiempo\n",
    "for i in range(1, rows):\n",
    "    step3(array, i)\n",
    "plot_ca(array)"
   ]
  },
  {
   "cell_type": "markdown",
   "id": "cd38c69e",
   "metadata": {},
   "source": [
    "## (5)  Un ejemplo de CA 2-D: El juego de la vida"
   ]
  },
  {
   "attachments": {
    "image.png": {
     "image/png": "[encoded data removed]"
    }
   },
   "cell_type": "markdown",
   "id": "1f80ec22",
   "metadata": {},
   "source": [
    "#### Regla de transición del juego de la vida:\n",
    "![image.png](attachment:image.png)"
   ]
  },
  {
   "cell_type": "code",
   "execution_count": null,
   "id": "d4c9d6bb",
   "metadata": {},
   "outputs": [],
   "source": [
    "# De nueva cuenta tenemos que iniciar con un arreglo para inicializar los estados.\n",
    "# aunque en este caso el arreglo 2-D solo describe lo valores binarios en un cierto periodo\n",
    "a = np.random.randint(2, size=(10, 10))  # elige al azar uno de dos enteros del conjunto {0, 1}\n",
    "                                         # genera valores en una matriz 10 x 10\n",
    "print(a)"
   ]
  },
  {
   "cell_type": "markdown",
   "id": "9e6c56fb",
   "metadata": {},
   "source": [
    "En un primer algoritmo del Juego de la Vida establecemos la regla de transición mediante un loop doble"
   ]
  },
  {
   "cell_type": "code",
   "execution_count": null,
   "id": "b6e8be60",
   "metadata": {},
   "outputs": [],
   "source": [
    "# Establecemos una nueva matriz, 'b', similar a la de 'a'\n",
    "b = np.zeros_like(a)                     # esto se hace para almacenar la configuración en t + 1                      \n",
    "rows, cols = a.shape\n",
    "for i in range(1, rows-1):               # nos movilizamos por renglones y columnas\n",
    "    for j in range(1, cols-1):           # para modificar los estados de toda la matriz           \n",
    "        state = a[i, j]                  # identificamos el valor de la célula central\n",
    "        neighbors = a[i-1:i+2, j-1:j+2] \n",
    "                        # mediante un slice, seleccionamos las celdas de la vecindad\n",
    "                        # se trata de una vecindad de Moore que incluye la celda\n",
    "                        # central y 8 vecinos en un radio de 1 (ariba, abajo, antes, después)\n",
    "        k = np.sum(neighbors) - state \n",
    "                        # sumamos los valores de los vecinos y quitamos el del centro\n",
    "        if state:\n",
    "            if k==2 or k==3:  # si la celda central está viva (1 => True) y la suma es 2 o 3                          \n",
    "                b[i, j] = 1   # se le asigna un 1 \n",
    "        else:\n",
    "            if k == 3:   # si esta muerta (0 => False) y hay 3 vecinos se le asigna un 1\n",
    "                b[i, j] = 1\n",
    "                         # en los demas casos se deja el 0\n",
    "print(b)"
   ]
  },
  {
   "cell_type": "code",
   "execution_count": null,
   "id": "6c7c8caf",
   "metadata": {},
   "outputs": [],
   "source": [
    "# Un algoritmo alternativo, mas compacto y rápido utiliza el metodo correlate\n",
    "from scipy.signal import correlate2d            # importamos el método de scipy para 2-D\n",
    "kernel = np.array([[1, 1, 1],                   # Ahora usamos una plantilla bidimensional que\n",
    "                   [1, 0, 1],                   # corresponde a la matriz Moore\n",
    "                   [1, 1, 1]])\n",
    "c = correlate2d(a, kernel, mode='same')        # aplicamos el método de correlación cruzada\n",
    "b = (c==3) | (c==2) & a                        # Con esta operación boolena asignamos True (1)\n",
    "                                               # cuando hay tres vecinos con 1 (True) o cuando\n",
    "                                               # hay dos vecinos con 1 (true) y la celda central \n",
    "                                               # en t era 1 (true)\n",
    "                                               # Ojo la operación binaria se lee de izquierda a \n",
    "                                               # derecha: primero la unión (|) y lurgo intersección(&) \n",
    "b = b.astype(np.uint8)                         # Cambiamos el valor booleano por el binario 0 o 1\n",
    "print(b)"
   ]
  },
  {
   "cell_type": "code",
   "execution_count": null,
   "id": "d735998f",
   "metadata": {},
   "outputs": [],
   "source": [
    "# Si a la celda central del kernel (o plantilla) le damos un valor de 10, la lógica del algoritmo\n",
    "# se simplifica\n",
    "kernel = np.array([[1, 1, 1],\n",
    "                   [1,10, 1],\n",
    "                   [1, 1, 1]])\n",
    "c = correlate2d(a, kernel, mode='same')\n",
    "b = (c==3) | (c==12) | (c==13)    # si la célula central de la vecindad Moore es 0, esta correlación\n",
    "                          # cruzada toma valores entre 0 y 8, si el centro es 1 el resultado\n",
    "                          # quedará entre 10 y 18. Por lo tanto, le asignaremos verdadero (1)\n",
    "                          # solo en tres casos posibles: la célula central está muerta (0) y hay\n",
    "                          # exactamente tres células vivas (1) => c == 3; cuando la célula central\n",
    "                          # esta viva y hay exactamente dos vecinos vivos => c == 12; cuando la\n",
    "                          # celula central esta viva y hay tres vecinos vivos => c == 13\n",
    "b = b.astype(np.uint8)    # cambiamos de booleano a binario\n",
    "print(b)"
   ]
  },
  {
   "cell_type": "code",
   "execution_count": null,
   "id": "217b77d0",
   "metadata": {},
   "outputs": [],
   "source": [
    "# la segunda versión del kernel hace posible apelar a una tabla en la que se identifican los\n",
    "# valores de la correlación cruzada en la vecindad Moore que deben adoptar el valor binario 1, \n",
    "# mientras que al resto de los valores de un arreglo de 20 se le asigna el cero\n",
    "table = np.zeros(20, dtype=int)      # se genera una tabla de ceros\n",
    "table[[3, 12, 13]] = 1     \n",
    "                    # se asignan 1s solo en las posiciones 3, 12 y 13 como en la operación lógica  \n",
    "c = correlate2d(a, kernel, mode='same')   # cuando usamos el resultado de c como un índice de la tabla\n",
    "b = table[c]        # checamos el valor que hay en esa posición y se lo asignamos al nuevo arreglo\n",
    "print(b)            # Notar que queda el mismo arreglo que el que obtuvimos arriba"
   ]
  },
  {
   "cell_type": "code",
   "execution_count": null,
   "id": "9c020aa3",
   "metadata": {},
   "outputs": [],
   "source": [
    "# Con este nuevo algoritmo procedemos a crear dos funciones; una para aplicar la actualización de\n",
    "# estados (regla de transición) y otra para dibujar con imágenes (cuadros de color)\n",
    "# los resultados del arreglo\n",
    "def step4(a, kernel):\n",
    "    table = np.zeros(20, dtype=np.uint8)\n",
    "    table[[3, 12, 13]] = 1\n",
    "    c = correlate2d(a, kernel, mode='same')\n",
    "    b = table[c]\n",
    "    return b\n",
    "a = step4(a, kernel)\n",
    "print(a)"
   ]
  },
  {
   "cell_type": "code",
   "execution_count": null,
   "id": "e4ae976c",
   "metadata": {},
   "outputs": [],
   "source": [
    "# Aqui transformamos los números binarios en colores\n",
    "def draw_array(array):\n",
    "    \"\"\"Dibujar las celdar de un arreglo 2-D con tonos de verde\"\"\"\n",
    "    n, m = array.shape\n",
    "    plt.axis([0, m, 0, n])    # longitud de los ejes\n",
    "    plt.xticks([])            # excluyo los tics de los dos ejes (marcas de 1 a 10)\n",
    "    plt.yticks([])            # Otra forma: plt.axis('off')\n",
    "\n",
    "    return plt.imshow(array, cmap='Greens')\n",
    "draw_array(a)"
   ]
  },
  {
   "cell_type": "code",
   "execution_count": null,
   "id": "637636a6",
   "metadata": {},
   "outputs": [],
   "source": [
    "# Dibujamos una secuencia de 5 estados adicionales del Juego de la Vida a partir de las condiciones\n",
    "# iniciales\n",
    "a = np.random.randint(2, size=(10, 10))\n",
    "draw_array(a)\n",
    "plt.show()\n",
    "for t in range(0, 5):\n",
    "    a = step4(a, kernel)\n",
    "    draw_array(a)\n",
    "    plt.show()"
   ]
  },
  {
   "cell_type": "code",
   "execution_count": null,
   "id": "6d17aca6",
   "metadata": {},
   "outputs": [],
   "source": [
    "fig = plt.figure(figsize=(10,10))    # Ahora la figura va a ser de mayor tamaño\n",
    "draw_array(a)\n",
    "plt.axis('off')                      # Quitamos los tics de los ejes"
   ]
  },
  {
   "cell_type": "code",
   "execution_count": null,
   "id": "cab6f580",
   "metadata": {},
   "outputs": [],
   "source": [
    "# A continuación se hace una animación con 100 iteraciones del Juego de la Vida\n",
    "from matplotlib.animation import FuncAnimation  # Importamos métodos de librería de animación\n",
    "fig = plt.figure(figsize=(10,10))\n",
    "im = plt.imshow(a, cmap='Greens')    # Establecemos la condición inicial con el último arreglo\n",
    "plt.axis('off')\n",
    "def update(i):                  # rutina para actualizar los frames de la animación\n",
    "    global a                    # definimos a como una variable global, lo que permite que\n",
    "    a = step4(a, kernel)        # los cambios hechos dentro de la función sean validos afuera de ella\n",
    "    im.set_array(a)\n",
    "    return im, \n",
    "anim = FuncAnimation(fig, update, frames=100, interval=20)  # interval define las pausas entre\n",
    "                                                            # cada frame\n",
    "anim.save('life.gif', dpi=80, writer='imagemagick')         # se guardan las imagenes en un archivo\n",
    "                                                            # gift que se almacena en dashboard "
   ]
  },
  {
   "cell_type": "markdown",
   "id": "a07c1ec8",
   "metadata": {},
   "source": [
    "## (6) Creación de objetos en el espacio del Juego de la Vida"
   ]
  },
  {
   "cell_type": "code",
   "execution_count": null,
   "id": "d972da07",
   "metadata": {},
   "outputs": [],
   "source": [
    "# Construimos un arreglo bidimensional para definir el entorno y en la parte de arriba a la zquierda\n",
    "# posicionamos al objeto de dimensión (n, m)\n",
    "def make_life(n, m, row, col, *strings):\n",
    "    \"\"\"Cramos un objeto predeterminado.\n",
    "    \n",
    "    n, m: renglones y columnas en el espacio del juego\n",
    "    row, col: coorenadas superior izquierda en donde se posicionara el objeto\n",
    "    strings: lista de strings con valores binarios '0' y '1'\n",
    "    \"\"\"\n",
    "    array = np.zeros((n + 5, m + 5), dtype=np.uint8)   # Creamos un arreglo de ceros más grande \n",
    "    for i, s in enumerate(strings):   # que el objeto; tomamos una porción del arreglo\n",
    "                                      # para insertar el objeto en cuestión\n",
    "                                      # la i selecciona No.de cadena, la s los distintos string\n",
    "        array[row+i, col:col+m] = [int(b) for b in s]    # usamos una compresión para ir\n",
    "                                      # cambiando str por enteros, uno a uno\n",
    "                                      # hacemos un slice para el renglón 0 y así sucesivamente\n",
    "    return array"
   ]
  },
  {
   "cell_type": "code",
   "execution_count": null,
   "id": "e9eb4539",
   "metadata": {},
   "outputs": [],
   "source": [
    "# Rutina para dibujar los arreglos a partir de imágenes de color \n",
    "def draw_array(array):\n",
    "    \"\"\"Dibujar las celdas de un arreglo 2-D con tonos de verde\"\"\"\n",
    "    fig = plt.figure(figsize=(5,5)) \n",
    "    plt.axis('off')\n",
    "    return plt.imshow(array, cmap='Greens')"
   ]
  },
  {
   "cell_type": "code",
   "execution_count": null,
   "id": "44489973",
   "metadata": {},
   "outputs": [],
   "source": [
    "# Ejemplo 1: Objeto conocido como beehive\n",
    "life = make_life(3, 4, 0, 0, '0110', '1001', '0110')\n",
    "print(life)\n",
    "draw_array(life)     # Tiene la siguiente forma"
   ]
  },
  {
   "cell_type": "code",
   "execution_count": null,
   "id": "c3bcae57",
   "metadata": {},
   "outputs": [],
   "source": [
    "# Otro ejemplo: glider\n",
    "plt.figure(figsize=(12, 4))\n",
    "glider = ['010', '001', '111']\n",
    "life = make_life(3, 3, 0, 0, *glider)\n",
    "draw_array(life)"
   ]
  },
  {
   "cell_type": "code",
   "execution_count": null,
   "id": "4566e17f",
   "metadata": {},
   "outputs": [],
   "source": [
    "# Glider: un objeto dinámico\n",
    "plt.figure(figsize=(15, 12))\n",
    "plt.subplots_adjust(hspace=0.5)\n",
    "glider = ['010', '001', '111']\n",
    "life = make_life(3, 3, 0, 0, *glider)\n",
    "draw_array(life)                             # lo dibujamos en el espacio\n",
    "kernel = np.array([[1, 1, 1],                # plantilla\n",
    "                  [1,10, 1],\n",
    "                  [1, 1, 1]])\n",
    "table = np.zeros(20, dtype=np.uint8)    # Un vector de tamaño 20 es suficiente ya que con la\n",
    "                                        # plantilla elegida no puede haber mas de 20 valores en c\n",
    "table[[3, 12, 13]] = 1                       \n",
    "for i in range(1, 18):                   # Vamos a imprimir la secuencia de estados con un glider\n",
    "    c = correlate2d(life, kernel, mode='same')   \n",
    "    life = table[c]                     # con las posiciones identificadas en 'table' asignamos\n",
    "                                        # los nuevos estados con la regla de transición\n",
    "    draw_array(life)                    # Notar que Glider se mueve diagonalmente hacia abajo"
   ]
  },
  {
   "cell_type": "markdown",
   "id": "0757e4cd",
   "metadata": {},
   "source": [
    "## (7) Formato para estructurar algoritmos de sistemas complejos"
   ]
  },
  {
   "cell_type": "markdown",
   "id": "68aa857d",
   "metadata": {},
   "source": [
    "A continuación se presenta un protocolo para la creación de algoritmos desarrollado por Hiroki Sayama en su libro de texto \"Introduction to the Modeling and Analysis of Complex Systems\", disponible en versión electrónica y en PDF en la siguiente dirección: https://math.libretexts.org/Bookshelves/Scientific_Computing_Simulations_and_Modeling/Book%3A_Introduction_to_the_Modeling_and_Analysis_of_Complex_Systems_(Sayama)\n",
    "En particular, el capítulo 10: Interactive Simulations of Complex Systems presenta una explicación de este formato, el cual resulta muy útil para la construcción de autómatas celulares y modelos\n",
    "basados an agentes en general"
   ]
  },
  {
   "cell_type": "code",
   "execution_count": null,
   "id": "c878a3af",
   "metadata": {},
   "outputs": [],
   "source": [
    "# Importar las librerías y módulos que sean necesarios para correr el modelo \n",
    "# definir los parámetros del modelo\n",
    "\n",
    "def initialize():\n",
    "    global # enlistar variables globales\n",
    "    # inicializar los estados del sistema\n",
    "    \n",
    "def observe():\n",
    "    global # enlistar variables globales\n",
    "    cla() # limpiar el espacio de visualizaciones\n",
    "    # visualizar los estados del sistema\n",
    "\n",
    "def update():\n",
    "    global # enlistar variables globales\n",
    "    # actualizar los estados del sistema en tiempo discreto\n",
    "\n",
    "# Ojo: no correr esta celda del Notebook, se presenta solo para explicar el formato"
   ]
  },
  {
   "cell_type": "markdown",
   "id": "ee55df19",
   "metadata": {},
   "source": [
    "A manera de ilustrar la utilización del protocolo veamos el siguiente ejemplo:\n",
    "Generación de partículas que se mueven en una caminata aleatoria en un espacio bidimensional"
   ]
  },
  {
   "cell_type": "code",
   "execution_count": null,
   "id": "31b53ace",
   "metadata": {},
   "outputs": [],
   "source": [
    "# Librerías y parámetros\n",
    "import random as rd                     # Para generar números aleatorios\n",
    "import matplotlib.pyplot as plt         # Para graficar\n",
    "n = 1000 # número de partículas\n",
    "sd = 0.1 # desviación estándar de ruido Gaussiano\n",
    "\n",
    "# Paso de inicialización de los estados\n",
    "def initialize():\n",
    "  global xlist, ylist                  # Creamos dos listas para las coordenadas de las partículas\n",
    "  xlist = []\n",
    "  ylist = []\n",
    "  for i in range(n):                   # Ubicamos a las partículas en el espacio bidimensional\n",
    "   xlist.append(rd.gauss(0, sd))\n",
    "   ylist.append(rd.gauss(0, sd))\n",
    "\n",
    "# Paso de generación de visualizaciones\n",
    "def observe():\n",
    "  global xlist, ylist\n",
    "  plt.clf()                          # Se limpia la figura entre una iteración y otra\n",
    "                                     # para no encimar los datos\n",
    "  plt.plot(xlist, ylist, '.')        # '.' indica que se hará un diagrama de dispersión por lo\n",
    "                                     # que estos puntos no se conectan con una línea \n",
    "# Paso de actualización de estados\n",
    "def update():\n",
    " global xlist, ylist\n",
    " for i in range(n):                    # En este caso los estados son las nuevas coordenadas en las\n",
    "                                       # que se posicionan las particulas\n",
    "  xlist[i] += rd.gauss(0, sd)          # a los valores originales se les suma un factor de          \n",
    "  ylist[i] += rd.gauss(0, sd)          # desplazamiento también gaussiano\n",
    "\n",
    "# Invocamos las tres primeras funciones para gráficar la visualización inicial\n",
    "print('Inicialización del proceso:')\n",
    "initialize()\n",
    "observe()\n",
    "update()\n"
   ]
  },
  {
   "cell_type": "code",
   "execution_count": null,
   "id": "93c129cc",
   "metadata": {},
   "outputs": [],
   "source": [
    "# Iteramos las funciones para veces hasta llegar al periodo 20 en el que se grafica\n",
    "# la visualización final:\n",
    "for i in range (0, 19):\n",
    "    observe()\n",
    "    update()\n",
    "print('Esta es la visualización del espacio bidimensiona en t =' + ' ' + str(20))"
   ]
  },
  {
   "cell_type": "markdown",
   "id": "9167b5ad",
   "metadata": {},
   "source": [
    "## (8) Un ejemplo de un CAS 2-D: el modelo del pánico"
   ]
  },
  {
   "cell_type": "markdown",
   "id": "62c592e3",
   "metadata": {},
   "source": [
    "En el siguiente modelo se analiza, a través de un CA 2D, un modelo de pánico en el que la regla de \n",
    "transisión describe el comportamiento de individuos una vez que se enciende una alarma de fuego\n",
    "en un lugar cerrado (e.g. un gimnasio). Si se suponen vecindades tipo Moore la regla es la siguiente:\n",
    "(i) Un individuo calmado, ubicado en la celda central, entrará en pánico si está rodeado de cuatro \n",
    "o más vecinos apanicados.\n",
    "(ii) Un individuo apanicado no logrará calmarse si tres de sus vecinos o más estan apanicado; \n",
    "de ser menos volverá a la normalidad.\n",
    "\n",
    "La regla de transición puede simplificarse de la siguiente manera: Un individuo presentará un \n",
    "estado de pánico si está rodeado de 4 o más vecinos apanicados; de lo contrario se calmará. \n",
    "Es decir, si el conteo es de tres y ya estaba en panico no hay que hacer cambios porque se\n",
    "mantiene en pánico; si estaba calmado lo seguirá estando\n",
    "\n",
    "Supuestos adicionales: el estado inicial se determina aleatoriamente con una probabilidad, p, de\n",
    "estar en pánico; el espacio de interacción presenta fronteras periódicas (i.e., un torus)"
   ]
  },
  {
   "cell_type": "code",
   "execution_count": null,
   "id": "f5c0ee00",
   "metadata": {},
   "outputs": [],
   "source": [
    "import matplotlib\n",
    "from pylab import *              # Esta librería nos ayuda a la graficación\n",
    "\n",
    "n = 100 # tamaño del espacio: n x n\n",
    "p = 0.1 # probabilidad inicial de estar en  pánico (i.e.,en el momento en que suena la alarma)\n",
    "# Para evitar confusiones creamos dos arreglos bi-dimensionales para reflejar los estados\n",
    "# del sistema en periodos sucesivos\n",
    "# En un primer paso inicializamos el arreglo\n",
    "def initialize():\n",
    "    global config, nextconfig           # los arreglos se definen como variables globales para\n",
    "                                        # usarlos dentro y fuera de las funciones\n",
    "    config = zeros([n, n])              # empezamos con un arreglo de ceros              \n",
    "    for x in range(n):                  # con los loops anidados sondeamos la matriz para                                    \n",
    "        for y in range(n):              # establecer los estados al azar\n",
    "            config[x, y] = 1 if random() < p else 0     # Ojo: Notar sintáxis del if\n",
    "                                    # primero vienen las instrucciones y luego el condicionamiento\n",
    "    nextconfig = zeros([n, n])          # esta es la matrix de salida"
   ]
  },
  {
   "cell_type": "code",
   "execution_count": null,
   "id": "dfc2158b",
   "metadata": {},
   "outputs": [],
   "source": [
    "# En el segundo paso del algoritmo se hacen las visualizaciones\n",
    "def observe():\n",
    "    global config, nextconfig\n",
    "    clf()\n",
    "    im = imshow(config, vmin = 0, vmax = 1, cmap = cm.binary) #transforma dígitos a imágenes\n",
    "    return im "
   ]
  },
  {
   "attachments": {
    "image.png": {
     "image/png": "[encoded data removed]"
    }
   },
   "cell_type": "markdown",
   "id": "6c03b250",
   "metadata": {},
   "source": [
    "Para aplicar la regla de transición tenemos que hacer un conteo de los estados entre los vecinos.\n",
    "Los vecinos están a un radio de longitud uno de la celda central (x', y´):\n",
    "    ![image.png](attachment:image.png)\n",
    "Si hacemos un loop anidado podemos tomar todos los vecinos que estan contenidos en los intervalos\n",
    "[-1, 1] Con valores discretos nuestro iterador dx o dy elige valores de la siguiente\n",
    "lista [-1, 0. 1] que definen las distancias con respecto a las coordenadas x, y en que se ubica el\n",
    "agente central"
   ]
  },
  {
   "cell_type": "code",
   "execution_count": null,
   "id": "5f47301d",
   "metadata": {},
   "outputs": [],
   "source": [
    "# El tercer paso define la regla de transición con la que se actualizan los estados\n",
    "def update():\n",
    "    global config, nextconfig\n",
    "    for x in range(n):\n",
    "        for y in range(n):\n",
    "            count = 0\n",
    "            for dx in [-1, 0, 1]:                # loops anidados\n",
    "                for dy in [-1, 0, 1]:\n",
    "                    count += config[(x + dx) % n, (y + dy) % n] # hacemos el conteo de estados con 1\n",
    "                                                                # que corresponde a pánico                      \n",
    "            nextconfig[x, y] = 1 if count >= 4 else 0\n",
    "    config, nextconfig = nextconfig, config"
   ]
  },
  {
   "cell_type": "markdown",
   "id": "62ed4e62",
   "metadata": {},
   "source": [
    "Notar que el operador de % permite generar espacios periodicos: la celda en la coordenada 98 tiene\n",
    "vecinos en las coordenadas 97 y en la 99. Pero la celda en la coordenada (n-1 =) 99 ya está en la \n",
    "frontera -¿Cuál es entonces su vecino de la derecha?- En este caso x + dx = 99+1 = 100, por lo que\n",
    "100 % 100 => residual de la división = 0; es decir, su vecino se encuentra al inicio del arreglo, y\n",
    "de ahí la forma de torus"
   ]
  },
  {
   "cell_type": "code",
   "execution_count": null,
   "id": "6f2e8f00",
   "metadata": {},
   "outputs": [],
   "source": [
    "# Aplicamos las tres funciones\n",
    "initialize()    # inicializa los arreglos con estados aleatorios\n",
    "observe()       # grafica el estado inicial\n",
    "update()        # actualiza con la regla de transición"
   ]
  },
  {
   "cell_type": "code",
   "execution_count": null,
   "id": "14913d7c",
   "metadata": {},
   "outputs": [],
   "source": [
    "# En el siguiente loop hacemos 18 iteraciones más, pero solo hacemos la impresión del espacio\n",
    "# que se genera en la número 18, más las dos que ya teníamos antes da un total de 20.\n",
    "for i in range (0, 18):\n",
    "    observe()\n",
    "    update()\n",
    "print('Esta es la situacion en el gim en t =' + ' ' + str(20))"
   ]
  },
  {
   "cell_type": "code",
   "execution_count": null,
   "id": "4421db64",
   "metadata": {},
   "outputs": [],
   "source": [
    "# En la siguiente rutina se van guardando las imágenes de los distintos espacios (frames)\n",
    "# para visualizar su movimiento a lo largo del tiempo.\n",
    "from matplotlib.animation import FuncAnimation\n",
    "fig = plt.figure(figsize=(5,5))\n",
    "initialize()\n",
    "def update2(i):\n",
    "    observe()\n",
    "    update()\n",
    "    return im\n",
    "anim = FuncAnimation(fig, update2, frames=3, interval=500)  # interval define las pausas entre\n",
    "                                                            # cada frame\n",
    "anim.save('panic.gif', dpi=80, writer='imagemagick')"
   ]
  },
  {
   "cell_type": "markdown",
   "id": "6fa13450",
   "metadata": {},
   "source": [
    "Para una mejor visualización del modelo se recomienda utilizar PyCX un simulador interactivo de \n",
    "modelos dinámicos desarrollado por Hiroki Sayama, los códigos se encuentran disponibles en el\n",
    "siguiente URL: https://github.com/hsayama/PyCX/  En particular el script de python se llama\n",
    "ca-panic.py y está dsiponible en https://github.com/hsayama/PyCX/blob/master/ca-panic.py\n",
    "Para usuarios de Spyder es necesario seguir las siguientes instrucciones para poder correr el modelo:\n",
    "Ir a la pestaña Run y elegir la siguiente secuencia: \"Run\" -> \"Configuration per file\" and select \n",
    "\"Execute in an external system terminal\". "
   ]
  }
 ],
 "metadata": {
  "kernelspec": {
   "display_name": "Python 3 (ipykernel)",
   "language": "python",
   "name": "python3"
  },
  "language_info": {
   "codemirror_mode": {
    "name": "ipython",
    "version": 3
   },
   "file_extension": ".py",
   "mimetype": "text/x-python",
   "name": "python",
   "nbconvert_exporter": "python",
   "pygments_lexer": "ipython3",
   "version": "3.9.7"
  }
 },
 "nbformat": 4,
 "nbformat_minor": 5
}
