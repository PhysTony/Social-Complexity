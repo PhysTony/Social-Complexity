{
 "cells": [
  {
   "cell_type": "markdown",
   "id": "426dea18",
   "metadata": {},
   "source": [
    "# Taller de programación en Python: Complejidad Social y Modelos Computacionales\n",
    "## Lección Py.8 Modelación de ABM usando las clases de Python\n",
    "### Impartido por: Gonzalo Castañeda\n",
    "#### Basado en: (i) Sargent, Thomas J. y John Starchski, Python Programming for Economics and Finance\n",
    "    https://python-programming.quantecon.org/intro.html Cap. 7 OOP II: Building Classes\n",
    "#### y en (ii) Downey, Allen B. , Think Complexity, Green Tea Press Needham, Massachusetts\n",
    "  https://greenteapress.com/complexity2/html/index.html \n",
    "        Cap. 8 Self organized criticallity;   Cap 9, Sec 9.4 Sugarscape"
   ]
  },
  {
   "cell_type": "markdown",
   "id": "e0352ad8",
   "metadata": {},
   "source": [
    "## (1) Conceptos básicos de la Programación Orientada a Objetos"
   ]
  },
  {
   "cell_type": "markdown",
   "id": "36ce8e24",
   "metadata": {},
   "source": [
    "En los paradigmas OOP (Programación Orientada a Objetos) los datos y los métodos (funciones)\n",
    "se combinan para formar objetos. Agunos de estos objetos ya estan construidos en Python \n",
    "(e.g., número enteros, listas) y tienen sus propios métodos. En ocasiones es conveniente\n",
    "construir nuevos objetos, y para ello definimos una nueva clase (class).\n",
    "Cada definición de clase establece un prototipo de objetos en particular, en los que se establece la naturaleza de datos que pueden almacenarse y los métodos que pueden actuar con estos datos.\n",
    "\n",
    "\n",
    "Un objeto o instancia es una realización de esta clase, el cual se crea a partir del prototipo\n",
    "correspondiente. Cada instancia tiene sus propios datos asociados a las variables de su clase\n",
    "En Python, a los datos y métodos se les sule referir como 'atributos' de una clase (aunque en \n",
    "ocasiones algunos programadores se refieren solo a los datos como los 'atributos').\n",
    "\n",
    "\n",
    "Los atributos de un objeto pueden ser accesados a través de la siguiente sintaxis:\n",
    "object_name.data  ; object_name.method_name()"
   ]
  },
  {
   "cell_type": "code",
   "execution_count": null,
   "id": "8059eef9",
   "metadata": {},
   "outputs": [],
   "source": [
    "# En el siguiente ejemplo la lista no solo tiene datos, sino también la capacidad de operar con\n",
    "# la función sort() que hace posible ordenar los datos contenidos\n",
    "x = [1, 5, 4]\n",
    "x.sort()\n",
    "x"
   ]
  },
  {
   "cell_type": "code",
   "execution_count": null,
   "id": "2ba9c200",
   "metadata": {},
   "outputs": [],
   "source": [
    "x = [1, 5, 4]\n",
    "x.sort()\n",
    "x.__class__\n",
    "# En este ejemplo, x es el objeto (o instancia) que Python define como parte de la clase de objetos\n",
    "# llamado lists; cada instancia tiene sus datos particulares \n",
    "#  x.sort() y x.__class__ son dos métodos de x, el último define el tipo de objeto"
   ]
  },
  {
   "cell_type": "code",
   "execution_count": null,
   "id": "d83b0801",
   "metadata": {},
   "outputs": [],
   "source": [
    "# dir(x) puede usarse para visualizar todos los métodos de x\n",
    "dir(x)"
   ]
  },
  {
   "cell_type": "markdown",
   "id": "7720f5d0",
   "metadata": {},
   "source": [
    "## (2) Un ejemplo sencillo de construccion de objetos mediante OOP"
   ]
  },
  {
   "cell_type": "code",
   "execution_count": null,
   "id": "179b540a",
   "metadata": {},
   "outputs": [],
   "source": [
    "# Importamos algunas librerías que nos serán utiles\n",
    "import numpy as np\n",
    "import matplotlib.pyplot as plt\n",
    "plt.rcParams['figure.figsize'] = (10,6)       # Una forma de definir el tamaño de las gráficas"
   ]
  },
  {
   "cell_type": "markdown",
   "id": "71b43cc9",
   "metadata": {},
   "source": [
    "En primer lugar definimos dos funciones, en la forma tradicional, que nos van a servir como referencia para ilustrar el potencial de la definición de clases. Las funciones 'earn' y 'spend' nos ayudan a llevar la contabilidad del ingreso y gasto de los consumidores"
   ]
  },
  {
   "cell_type": "code",
   "execution_count": null,
   "id": "60ece702",
   "metadata": {},
   "outputs": [],
   "source": [
    "def earn(w,y):\n",
    "    \"Consumidor con riqueza inicial w gana y\"    # En el entrecomillado se documenta el objetivo de\n",
    "                                                 # la función\n",
    "    return w+y\n",
    "\n",
    "def spend(w,x):\n",
    "    \"Consumidor con riqueza inicial w gasta x\"\n",
    "    new_wealth = w-x\n",
    "    if new_wealth < 0:\n",
    "        print(\"Fondos insuficientes\")\n",
    "    else:\n",
    "        return new_wealth"
   ]
  },
  {
   "cell_type": "code",
   "execution_count": null,
   "id": "ccffcffd",
   "metadata": {},
   "outputs": [],
   "source": [
    "# Invocamos estas funciones con valores específicos:\n",
    "w0=100\n",
    "w1=earn(w0,10)             # vamos alternando ingreso y gasto\n",
    "w2=spend(w1,20)\n",
    "w3=earn(w2,10)\n",
    "w4=spend(w3,20)\n",
    "print(\"w0,w1,w2,w3,w4 = \", w0,w1,w2,w3,w4)   # secuencia de niveles de riqueza\n",
    "                                          "
   ]
  },
  {
   "cell_type": "markdown",
   "id": "8505a62c",
   "metadata": {},
   "source": [
    "La Clase vincula un conjunto de datos a instancias particulares sobre los que operan un conjunto de\n",
    "métodos. En este ejemplo, una instancia va a ser una persona en particular cuyos datos tienen que\n",
    "ver con sus niveles de riqueza, ingreso y gasto. Los métodos son, entonces, las funciones a las que se les aplican los datos de la persona para describir la manera en que cambian los valores de las\n",
    "variables."
   ]
  },
  {
   "cell_type": "markdown",
   "id": "20576701",
   "metadata": {},
   "source": [
    "A continuación, construimos la clase que se define como consumidor con tres tipos de métodos y un tipo de dato, el que se almacena en la memoria del objeto: wealth. Las variables y, x modifican el nivel de riqueza pero, en este ejemplo, no son almacenadas.\n",
    "Los metodos 'earn' and 'spend' son equivalentes a las funciones arriba descritas.\n",
    "El método __init__  es referido en Python como el método constructor en la medida que permite la\n",
    "creación de objetos.\n",
    "\n",
    "\n",
    "El término self es usado en las clases para especificar que se trata de un dato que le pertenece a la instancia que se está creando (self.wealth). También aparece como argumento de las funciones: def earn(self, y), y no simplemente como: def earn(y), para recalcar que el valor de dicha variable se asocia a los datos de una instancia en particular.\n",
    "De igual forma, cualquier método referenciado al interior de la clase debe invocarse\n",
    "de la siguiente manera: self.method_name"
   ]
  },
  {
   "cell_type": "code",
   "execution_count": null,
   "id": "b365e58b",
   "metadata": {},
   "outputs": [],
   "source": [
    "# Declaración de un tipo de objetos:\n",
    "\n",
    "class Consumer:\n",
    "\n",
    "    def __init__(self, w):\n",
    "        \" Inicializar al consumidor con w pesos de riqueza\"\n",
    "        self.wealth = w\n",
    "\n",
    "    def earn(self, y):\n",
    "        \"El consumidor gana y pesos\"\n",
    "        self.wealth += y\n",
    "\n",
    "    def spend(self, x):\n",
    "        \"El consumidor gasta x pesos siempre que sea factible\"\n",
    "        new_wealth = self.wealth - x\n",
    "        if new_wealth < 0:\n",
    "            print(\"Fondos insuficientes\")\n",
    "        else:\n",
    "            self.wealth = new_wealth"
   ]
  },
  {
   "cell_type": "markdown",
   "id": "45d1aef1",
   "metadata": {},
   "source": [
    "Los métodos como __ init __() de las clases son métodos especiales de Python  conocidos como\n",
    "métodos de 'double underscore' (“dunder methods” = “Double UNDERscore”) que realizan ciertas \n",
    "operaciones. Como sería el transformar un objeto en un string: método  __ str __());\n",
    "o el enunciar los datos de una instancia, o los métodos de una clase:  __ dict __() \n",
    "Una descripción de estos métodos especiales se presenta en la siguiente dirección \n",
    "https://docs.python.org/3/reference/datamodel.html#special-method-names"
   ]
  },
  {
   "cell_type": "code",
   "execution_count": null,
   "id": "9910b095",
   "metadata": {},
   "outputs": [],
   "source": [
    "# Creamos una instancia con una riqueza inicial de 10\n",
    "c1 = Consumer(10) \n",
    "c1.spend(5)            # aplicamos uno de los métodos posible\n",
    "c1.wealth              # observamos el valor de su riqueza financiera neta de gastos"
   ]
  },
  {
   "cell_type": "code",
   "execution_count": null,
   "id": "ace304ff",
   "metadata": {},
   "outputs": [],
   "source": [
    "# Si queremeos saber lo que hace un método específico, le pedimos que nos enseñe su documentación con\n",
    "# __doc__\n",
    "earn.__doc__"
   ]
  },
  {
   "cell_type": "code",
   "execution_count": null,
   "id": "27f6a999",
   "metadata": {},
   "outputs": [],
   "source": [
    "# Una vez creada la instancia (i.e., el agente) podemos cambiar su nivel de riqueza\n",
    "# con distintas operaciones de ingreso y gasto\n",
    "c1.earn(15)\n",
    "c1.spend(100)"
   ]
  },
  {
   "cell_type": "code",
   "execution_count": null,
   "id": "9d0b42e4",
   "metadata": {},
   "outputs": [],
   "source": [
    "# De igual forma podemos crear varias instancias c1, c2 que pertenencen a la misma clase pero\n",
    "# que presentan diferentes datos\n",
    "c1 = Consumer(10)\n",
    "c2 = Consumer(12)\n",
    "c2.spend(4)\n",
    "c2.wealth"
   ]
  },
  {
   "cell_type": "code",
   "execution_count": null,
   "id": "342b9dc9",
   "metadata": {},
   "outputs": [],
   "source": [
    "# Cada instancia (consumidor) almacena su información en diccionarios diferentes\n",
    "# el método __ dict __ nos permite ver el diccionario (que potencialmente puede incuir varios datos) \n",
    "# para cada uno de los consumidores creados; por ejemplo:\n",
    "c1.__dict__"
   ]
  },
  {
   "cell_type": "code",
   "execution_count": null,
   "id": "ab9d4c18",
   "metadata": {},
   "outputs": [],
   "source": [
    "# Para el segundo consumidor creado\n",
    "c2.__dict__"
   ]
  },
  {
   "cell_type": "code",
   "execution_count": null,
   "id": "4dc25d82",
   "metadata": {},
   "outputs": [],
   "source": [
    "# Para visualizar los distintos métodos de una clase de objetos\n",
    "print(Consumer.__dict__) \n",
    "# en donde se puede corroborar que se integraron los métodos: __init__ , earn , spend, los otros\n",
    "# metodos son creados por Python de manera automática: __dict__ , __doc__ "
   ]
  },
  {
   "cell_type": "markdown",
   "id": "5be0c130",
   "metadata": {},
   "source": [
    "## (3) Un algoritmo sencillo que utiliza clases en Python"
   ]
  },
  {
   "cell_type": "markdown",
   "id": "0c833587",
   "metadata": {},
   "source": [
    "En este algoritmo se estudia la dinámica de un sistema nolineal dinámico que exhibe comportamientos\n",
    "caóticos. Una regla de transición para la variable x con esta \n",
    "dinámica es la que se describe a través de un mapa logístico:\n",
    "                  x(t+1) = rx(t)(1 - x(t)),  x(0) definido en [0, 1],  mientras que r es un parámetro cuyo valor puede estar definido en [0, 4]"
   ]
  },
  {
   "cell_type": "code",
   "execution_count": null,
   "id": "8ac33b39",
   "metadata": {},
   "outputs": [],
   "source": [
    "class Chaos:              # Definimos a la clase, el nombre de la clase empieza con mayúscula\n",
    "  \"\"\"\n",
    "  Modelo del sistema dinámico: $x_{t+1} = r x_t (1 - x_t)$\n",
    "  \"\"\"\n",
    "  def __init__(self, x0, r):               # Especificamos el constructor de objetos\n",
    "      \"\"\"\n",
    "      Inicializamos con x0 y el parámetro r\n",
    "      \"\"\"\n",
    "      self.x, self.r = x0, r               # Hacemos las asignaciones correspondientes\n",
    "\n",
    "  def update(self):                         # Método update: describimos el proceso de actualización \n",
    "                                            # del mapa logístico periodo a periodo\n",
    "      \"Actualizamos los estados del mapa.\"\n",
    "      self.x =  self.r * self.x *(1 - self.x)   # Recordar que es una asignación no una ecuación\n",
    "\n",
    "  def generate_sequence(self, n):           # Método generate_sequence: almacenamos el valor x(t)\n",
    "      \"Generar una secuencia de longitud n.\"\n",
    "      path = []                             # Lista en la que se almacena la secuencia \n",
    "      for i in range(n):                    # n es el dato que especifíca número de iteraciones\n",
    "          path.append(self.x)               # Agregamos los nuevos valores\n",
    "          self.update()                     # Invocamos el método de actualización\n",
    "      return path"
   ]
  },
  {
   "cell_type": "code",
   "execution_count": null,
   "id": "31b71fa0",
   "metadata": {},
   "outputs": [],
   "source": [
    "ch = Chaos(0.1, 4.0)     # Creamos un objeto con los siguientes parámetro x0 = 0.1 and r = 0.4\n",
    "ch.generate_sequence(5)  # Aplicamos el método en el que se produce los valores \n",
    "                         # de las 5 primeras iteraciones"
   ]
  },
  {
   "cell_type": "code",
   "execution_count": null,
   "id": "68bc1cba",
   "metadata": {},
   "outputs": [],
   "source": [
    "ch = Chaos(0.1, 4.0)     # Creamos otro objeto, pero asignamos el mismo nombre\n",
    "ts_length = 250          # definimos la longitud de la serie de tiempo\n",
    "\n",
    "fig, ax = plt.subplots()                # Métodos de graficación definidos en librería matplotlib\n",
    "ax.set_xlabel('$t$', fontsize=14)\n",
    "ax.set_ylabel('$x_t$', fontsize=14)\n",
    "x = ch.generate_sequence(ts_length)\n",
    "ax.plot(range(ts_length), x, 'bo-', alpha=0.5, lw=2, label='$x_t$')\n",
    "plt.show()"
   ]
  },
  {
   "cell_type": "code",
   "execution_count": null,
   "id": "9c75a953",
   "metadata": {},
   "outputs": [],
   "source": [
    "# Con la Clase anterior realizamos un analisis de bifurcación en el que de construyen\n",
    "# distintas instancias modificando el parámetro r y analizado su dinámica de largo plazo \n",
    "fig, ax = plt.subplots()\n",
    "ch = Chaos(0.1, 4)             # Construimos una primera instancia\n",
    "r = 2.5\n",
    "while r < 4:                   # Se crean instancias con valores que oscilan en [2.5, 4)\n",
    "    ch.r = r                   # al cambiar el parámetro r, estamos en realidad modificando\n",
    "                               # la instancia previamente construida generada líneas arriba\n",
    "    t = ch.generate_sequence(1000)[950:]  # Aunque generamos toda la secuencia desde periodo 0\n",
    "                                          # sólo graficamos los últimos 50 valores  \n",
    "    ax.plot([r]*len(t) , t, 'b.', ms=0.6)   # para que los dos listas sean de la misma dimensión\n",
    "                                             # multiplicamos la lista con valor de r por el tamaño de \n",
    "                                             # lista t; esta es una operación de concatenación\n",
    "                                             # con la que la coordenada horizontal con valor r\n",
    "                                             # se repite t veces\n",
    "    r = r + 0.005              # Se define el cambio en el valor de r con un paso de 0.005\n",
    "ax.set_xlabel('$r$', fontsize=16)\n",
    "ax.set_ylabel('$x_t$', fontsize=16)\n",
    "plt.show()"
   ]
  },
  {
   "cell_type": "markdown",
   "id": "4277f2be",
   "metadata": {},
   "source": [
    "## (4) Un modelo de segregación basado en agentes mediante clases"
   ]
  },
  {
   "cell_type": "code",
   "execution_count": null,
   "id": "259f415a",
   "metadata": {},
   "outputs": [],
   "source": [
    "# Importación de librerías                       \n",
    "import matplotlib.pyplot as plt\n",
    "plt.rcParams[\"figure.figsize\"] = (11, 5)  # Definimos el tamaño de las gráficas\n",
    "from random import uniform, seed          # Con seed se garantiza que las distintas corridas \n",
    "                                          # aleatorias produzcan el mismo resultado \n",
    "from math import sqrt"
   ]
  },
  {
   "cell_type": "code",
   "execution_count": null,
   "id": "037ed0d2",
   "metadata": {},
   "outputs": [],
   "source": [
    "seed(10)  # Para reproducir los mismos valores aleatorios\n",
    "# Definimos la Clase de los agentes característicos del modelo de Schelling con vecindades continuas\n",
    "class Agent:\n",
    "\n",
    "    def __init__(self, type):   # Método constuctor de agentes\n",
    "        self.type = type        # Se especifican sus datos: tipo  \n",
    "        self.draw_location()    # el posicionamiento en espacio [0, 1] se define con un método \n",
    "\n",
    "    def draw_location(self):\n",
    "        self.location = uniform(0, 1), uniform(0, 1)  # La posición se genera con una uniforme\n",
    "\n",
    "    def get_distance(self, other):  \n",
    "        \"Cálculamos la distancia euclidiana entre self y demás agente de la vecindad.\"\n",
    "        a = (self.location[0] - other.location[0])**2\n",
    "        b = (self.location[1] - other.location[1])**2\n",
    "        return sqrt(a + b)\n",
    "\n",
    "    def happy(self, agents):               # definimos si la instancia está contenta en su ubicación\n",
    "        \"Verdadero si el número suficiente  de vecinos más cercanos son del mismo tipo.\"\n",
    "        distances = []\n",
    "        # distances es una lista de parejas (d, agente), en donde d es la distancia del\n",
    "        # agente a self\n",
    "        for agent in agents:\n",
    "            if self != agent:                           # excluimos al propio agente (self)\n",
    "                distance = self.get_distance(agent)     # aplicamos el método de distancia\n",
    "                distances.append((distance, agent))     # vamos incorporando nuevas parejas a la lista\n",
    "        # Ordenamos de menor a mayor, de acuerdo con la distancia \n",
    "        distances.sort()\n",
    "        # Extraemos los agentes más cercanos\n",
    "        neighbors = [agent for d, agent in distances[:num_neighbors]]   #num_neighbors es un\n",
    "                                # parámetro que define cuántos agentes se consideran vecinos \n",
    "        \n",
    "        # Contabilizamos cuántos vecinos tienen el mismo tipo que self\n",
    "        num_same_type = sum(self.type == agent.type for agent in neighbors)\n",
    "        return num_same_type >= require_same_type      # Resultado es verdadero si se cumple condición\n",
    "\n",
    "    def update(self, agents):              # Método de actualización de posición según felicidad\n",
    "        \"Si no está feliz, entonces elige una localización hasta estar feliz.\"\n",
    "        while not self.happy(agents):      # Es decir si no se cumple el requisito de tolerancia\n",
    "            self.draw_location()           # continua iterando\n",
    "\n",
    "# Parte del código en el que se programa la visualización del  espacio bidimensional \n",
    "\n",
    "# Graficación de los agentes en espacio bidiemensional continuo\n",
    "def plot_distribution(agents, cycle_num):\n",
    "    \"Se grafica la distribución de los agentes en la iteración # cycle_num del loop.\"\n",
    "    x_values_0, y_values_0 = [], []       # el 0 , 1 se usa para identificar tipo de agente\n",
    "    x_values_1, y_values_1 = [], []\n",
    "    # Obtenemos la ubicación de los agentes de cada tipo #\n",
    "    for agent in agents:\n",
    "        x, y = agent.location           # usamos el dato de posición declarado  con self.location\n",
    "        if agent.type == 0:             # si son tipo 0 lo guardamos en la lista correspondiente\n",
    "            x_values_0.append(x)\n",
    "            y_values_0.append(y)\n",
    "        else:\n",
    "            x_values_1.append(x)\n",
    "            y_values_1.append(y)\n",
    "    fig, ax = plt.subplots(figsize=(8, 8))           # métodos de graficación\n",
    "    plot_args = {'markersize': 8, 'alpha': 0.6}\n",
    "    ax.set_facecolor('azure')\n",
    "    ax.plot(x_values_0, y_values_0, 'o', markerfacecolor='orange', **plot_args)\n",
    "    ax.plot(x_values_1, y_values_1, 'o', markerfacecolor='green', **plot_args)\n",
    "    ax.set_title(f'Cycle {cycle_num-1}')             # se especifica número de iteración\n",
    "    plt.show()\n",
    "\n",
    "# Parte principal del programa: aquí se invoca la construcción de instancias y la graficación \n",
    "# del espacio:\n",
    "\n",
    "# (i) Definición de valores para los parámetros\n",
    "num_of_type_0 = 250     # No. agentes tipo 0\n",
    "num_of_type_1 = 250\n",
    "num_neighbors = 10      # Número de agentes considerados vecinos\n",
    "require_same_type = 5   # Se quiere que al menos estos vecinos sean del mismo tipo\n",
    "\n",
    "# (ii) Creamos una lista de agentes #\n",
    "agents = [Agent(0) for i in range(num_of_type_0)]     # Primero van los tipo 0, se llama a la clase\n",
    "agents.extend(Agent(1) for i in range(num_of_type_1)) # especificando su tipo, luego se colocan\n",
    "                                                      # en la misma lista 'agents' los del tipo 1\n",
    "\n",
    "\n",
    "count = 1\n",
    "# Hacemos un loop hasta que nadie quiera moverse => se cumpla una condición de equilibrio \n",
    "while True:\n",
    "    print('Número de iteración ', count)\n",
    "    plot_distribution(agents, count)   # invocamos al proceso de graficación\n",
    "    count += 1\n",
    "    no_one_moved = True\n",
    "    for agent in agents:\n",
    "        old_location = agent.location\n",
    "        agent.update(agents)            # Se actualiza posición\n",
    "        if agent.location != old_location:   # Checamos posición actual y anterior\n",
    "            no_one_moved = False             # Si al menos uno se mueve continua el loop\n",
    "    if no_one_moved:\n",
    "        break                                # Si nadie se movio da por terminado el loop \n",
    "\n",
    "print('Convergíó => el equilibrio se alcanzó.') # es decir: equilibrio existe y algoritmo converge"
   ]
  },
  {
   "cell_type": "markdown",
   "id": "36f5f865",
   "metadata": {},
   "source": [
    "Para un texto más a detalle sobre OOP consultar: Klein, Bernd (2022) python-course.eu \n",
    "    Intro to Object Oriented Programming, https://python-course.eu/oop/ , para una explicación\n",
    "    más simpe consultar \"El libro de Python\": https://ellibrodepython.com/programacion-orientada-a-objetos"
   ]
  },
  {
   "cell_type": "markdown",
   "id": "229f7898",
   "metadata": {},
   "source": [
    "## (5) La 'pila de arena de Bak' y la criticalidad autoorganizada"
   ]
  },
  {
   "cell_type": "markdown",
   "id": "7fdaaf9b",
   "metadata": {},
   "source": [
    "La criticalidad autoorganizada (SOC por sus siglas en inglés) es la tendencia de algunos sistemas\n",
    "complejos a evolucionar hacia un estado crítico y permanecer en él por un largo tiempo sin que haya\n",
    "de por medio un control exógeno. En estos estados se intercalan periodos de aparente estabilidad con eventos disruptivos sin una aparente razón. En este sentido no puede afirmarse que sean estados estacionarios y mucho menos estáticos.\n",
    "\n",
    "El modelo de la pila de arena es un autómata celular, en donde los estados de cada célula\n",
    "representan la pendiente de una pila de arena. En cada periodo de tiempo, se monitorea si la pendiente de cada célula ha rebasado a un valor crítico $K$, que usualmente es 3. Si este es el caso, entonces, se produce una derrama (o pequeña cascada) de granos de arena a las células vecinas. En estas circunstancia la pendiente de la célula decrece en -4 y cada vecino incrementa su pendiente en 1. Es decir, se suponen vecindades Von Newmann. Esto ocurre en todas las vecindades con la excepción del perímetro de la retícula, en donde las células tienen una pendiente de cero, por lo que puede afirmarse que la arena se desparrama por el borde. \n",
    "\n",
    "Una vez inicializada la retícula con un sembrado aleatorio, se observa a lo largo de la simulación el efecto de pequeñas perturbaciones en el sistema. Estas peturbaciones surgen a partir de la\n",
    "selección de una célula al azar y el incremento de su pendiente de 1 (un grano más), posteriormente, se deja que los derrames ocurran hasta que el sistema se estabiliza. Este proceso de perturbación se repite de manera indefinida. En cada perturbación se mide $T$, el número de pasos que le toma a la pila estabilizarse, y $S$ el número de células que experimentan derrames. La mayor parte del tiempo,\n",
    "ninguna célula genera derrames ante la caída de un solo grano => $T$ = 1 y $S$ = 0. Pero en ocasiones un solo grano puede producir avalanchas que ven a muchas células afectadas. La simulación muestra que\n",
    "que las distribuciones de $T$ y de $S$ exhiben un patrón de colas anchas, lo que respalda la idea de que en estas circunstancias la pila se ubica en un estado crítico de manera endógena."
   ]
  },
  {
   "cell_type": "code",
   "execution_count": null,
   "id": "cb87e4fc",
   "metadata": {},
   "outputs": [],
   "source": [
    "# Importamos las librerias requeridas\n",
    "import matplotlib.pyplot as plt\n",
    "import numpy as np\n",
    "import itertools\n",
    "from scipy.signal import correlate2d"
   ]
  },
  {
   "cell_type": "code",
   "execution_count": null,
   "id": "8b4f52a4",
   "metadata": {},
   "outputs": [],
   "source": [
    "# También importamos códigos qe se encuentran disponibles en internet y que no permitirán elaborar\n",
    "# las visualizaciones de los resultados \n",
    "from os.path import basename, exists\n",
    "\n",
    "def download(url):\n",
    "    filename = basename(url)\n",
    "    if not exists(filename):\n",
    "        from urllib.request import urlretrieve\n",
    "        local, _ = urlretrieve(url, filename)\n",
    "        print('Downloaded ' + local)     # las rutinas se bajan al dashboard de jupyter\n",
    "                                         # o al folder local en donde se ubica el código principal    \n",
    "download('https://github.com/AllenDowney/ThinkComplexity2/raw/master/notebooks/utils.py')\n",
    "download('https://github.com/AllenDowney/ThinkComplexity2/raw/master/notebooks/Cell1D.py')\n",
    "download('https://github.com/AllenDowney/ThinkComplexity2/raw/master/notebooks/Cell2D.py')"
   ]
  },
  {
   "cell_type": "code",
   "execution_count": null,
   "id": "e665ff55",
   "metadata": {},
   "outputs": [],
   "source": [
    "from utils import decorate, savefig, three_frame     \n",
    "# las imagenes se van a guardar en un archivo\n",
    " # también se importan accesorios para decorar las gráficas y rutina para graficar frames específicos\n",
    "!mkdir -p figs"
   ]
  },
  {
   "cell_type": "markdown",
   "id": "5957fb39",
   "metadata": {},
   "source": [
    "En este programa vamos a utilizar el esquema de herencia de clases, en la que la clase padre hereda\n",
    "a las clases hijas una serie de atributos y metodos que son de uso genérico, por lo que\n",
    "los usos particulares se tendrían que definir al nivel de las clases hijas. En esta notebook, la\n",
    "herencia tiene que ver con la construcción de retículas bidimensionales que son comunes a muchos\n",
    "autómatas celulares y ABM. Asimismo, en la clase padre también se pueden definir una serie de\n",
    "funciones asociadas a la visualización de estas retículas y a su animación a través de frames que\n",
    "se presentan en secuencia."
   ]
  },
  {
   "cell_type": "code",
   "execution_count": null,
   "id": "ce23bc29",
   "metadata": {},
   "outputs": [],
   "source": [
    "# Se importan modúlos del código de visualizaciones\n",
    "from Cell2D import Cell2D, draw_array\n",
    "\n",
    "# Creamos una clase SandPile que 'hereda' las definiciones que se presentan en el código Cell2D.py\n",
    "# para hacer visualizaciones\n",
    "\n",
    "class SandPile(Cell2D):\n",
    "    \"\"\"Autómata celular de difusión de perturbaciones locales.\"\"\"\n",
    "\n",
    "\n",
    "    def __init__(self, n, m=None, level=9):    # Función para la construcción de pilas\n",
    "        \"\"\"Inicializamos los atributos (datos).\n",
    "\n",
    "        n: número de renglones\n",
    "        m: número de columnas\n",
    "        level: valor inicial para todas las células\n",
    "        \"\"\"\n",
    "        m = n if m is None else m               # si solo se especifica un valor, se hace una\n",
    "                                                # retícula cuadrada\n",
    "        self.array = np.ones((n, m), dtype=np.int32) * level     # se crea la reticula con unos\n",
    "                                                # cuyo valor varía por un factor (level)\n",
    "        self.toppled_seq = []                   # se hace un listado para almacenar información\n",
    "                                                # de derrames\n",
    "    kernel = np.array([[0, 1, 0],               # Establecemos una planilla para indicar el\n",
    "                       [1,-4, 1],               # esquema de derrames\n",
    "                       [0, 1, 0]], dtype=np.int32)\n",
    "    \n",
    "# Creamos una función de actualización de los estados a partir de las derramas\n",
    "    def step(self, K=3):\n",
    "        \"\"\"Ejecuta un paso de la simulación.\n",
    "        \n",
    "        returns: número de células que tuvieron cascadas\n",
    "        \"\"\"\n",
    "        toppling = self.array > K               # condición para producir derrames en c/elemento\n",
    "                                                # del arreglo\n",
    "        num_toppled = np.sum(toppling)          # se suman los valores que dieron verdadero = 1 \n",
    "        self.toppled_seq.append(num_toppled)    # se agrega a la lista de célúlas con derrames\n",
    "\n",
    "        c = correlate2d(toppling, self.kernel, mode='same')     # Se obtiene la correlación cruzada\n",
    "                                                # entre un arreglo que describe las células de la \n",
    "                                                # pila en que hubo derramas y la plantilla de la \n",
    "                                                # vecindad\n",
    "                                                # la correlación indica número de granos desparramados\n",
    "                                                # que debe recibir la célula central en función de\n",
    "                                                # las cascadas de sus vecinos\n",
    "        self.array += c                         # si se produjo derrama en vecinos se agregan los\n",
    "        return num_toppled                      # granitos recibidos (i.e., aumenta la pendiente)\n",
    "# con el mode = 'same' correlate2 considera las fronteras de la retícula fijas en cero, de tal manera\n",
    "# que que los granos que se derraman hacia fuera de la retícula se pierden\n",
    "    \n",
    "###  --Ver celda siguiente en Notebook para ejemplo sencillo de esta operación--- \n",
    "\n",
    "# En la siguiente función se elige al azar una célula a la que se agrega una unidad a la pendiente\n",
    "# (i.e., un granito más)\n",
    "    def drop(self):\n",
    "        \"\"\"Incremento en una célula al azar.\"\"\"\n",
    "        a = self.array\n",
    "        n, m = a.shape\n",
    "        index = np.random.randint(n), np.random.randint(m)  # se eligen coordenadas al azar\n",
    "        a[index] += 1\n",
    " \n",
    " # Con run se ejecutan tantos pasos como sea necesarios hasta que ya no se produzcan cascadas \n",
    "    def run(self):\n",
    "        \"\"\"Corre hasta que se estabiliza el sistema.\n",
    "        \n",
    "        returns: duración, número total de cascadas\n",
    "        \"\"\"\n",
    "        total = 0\n",
    "        for i in itertools.count(1):  #con count se contabiliza el número de iteraciones a partir de 1\n",
    "            num_toppled = self.step()   # en cada paso se regista el número de células con derrames\n",
    "            total += num_toppled        # se acumulan valores de manera secuencial\n",
    "            if num_toppled == 0:        # el loop termina cuando no hay derrames\n",
    "                return i, total    # se regresa una tupla que contiene el número de pasos que\n",
    "                                   # ocurrieron hasta equilibrio y el número total de células que\n",
    "                                   # experimentaron cascadas\n",
    "\n",
    "  # Con esta función se deja caer un nuevo grano al azar, y se inicia otra corrida                  \n",
    "    def drop_and_run(self):\n",
    "        \"\"\"Se deja caer un grano al alcanzar hasta llegar al equilibrio.\n",
    "        \n",
    "        returns: duration, total_toppled\n",
    "        \"\"\"\n",
    "        self.drop()\n",
    "        duration, total_toppled = self.run()\n",
    "        return duration, total_toppled\n",
    "    \n",
    "    def draw(self):\n",
    "        \"\"\"Ilustrar el valor de las células en la retícula.\"\"\"\n",
    "        draw_array(self.array, cmap='YlOrRd', vmax=5)        # Esta es una función que se describe\n",
    "                                                      # en la clase Cell2D que es invocada al\n",
    "                                                      # momento de llamar a la clase SandPile\n",
    "                                                       \n",
    "\n",
    " "
   ]
  },
  {
   "cell_type": "code",
   "execution_count": null,
   "id": "75975cd3",
   "metadata": {},
   "outputs": [],
   "source": [
    "# A manera de ilustración de algunas de las rutinas anteriores, creamos una pila  3 x 5  \n",
    "# de nivel 0 (sin granos)\n",
    "pile = SandPile(n=3, m=5, level=0)\n",
    "pile.array[1, 1] = 4                  # asignamos 4 granos en celda especificas de la matriz              \n",
    "pile.array[1, 3] = 4\n",
    "\n",
    "a = pile.array\n",
    "print(a)"
   ]
  },
  {
   "cell_type": "code",
   "execution_count": null,
   "id": "2ef45394",
   "metadata": {},
   "outputs": [],
   "source": [
    "# Seleccionamos los elementos del arreglo que generan derramas al excederse la pendiente del umbral\n",
    "K = 3\n",
    "toppling = a > K\n",
    "print(toppling.astype(int))      # cambiamos booleano a entero\n",
    "                                 # con 1s identifica la celda en que ocurre el derrame"
   ]
  },
  {
   "cell_type": "code",
   "execution_count": null,
   "id": "ddbfddb5",
   "metadata": {},
   "outputs": [],
   "source": [
    "kernel = np.array([[0, 1, 0],\n",
    "                   [1,-4, 1],\n",
    "                   [0, 1, 0]])\n",
    "print(kernel)"
   ]
  },
  {
   "cell_type": "code",
   "execution_count": null,
   "id": "802d4418",
   "metadata": {},
   "outputs": [],
   "source": [
    "# Al obtener la correlación cruzada de cada vecindad del arreglo de derramas con el kernel\n",
    "# encontramos las variaciones en granitos de cada célula (negativo = bajan, positivo suben)\n",
    "c = correlate2d(toppling, kernel, mode='same', boundary='fill', fillvalue=0)\n",
    "print(c)\n",
    "# Notar que la célula con el 2 esta recibiendo dos granitos por la derrama de su vecino de la\n",
    "# derecha y de la izquierda"
   ]
  },
  {
   "cell_type": "code",
   "execution_count": null,
   "id": "13e0fc6c",
   "metadata": {},
   "outputs": [],
   "source": [
    "# las céluas desparramadas pierden sus granitos una vez que se actualiza el acervo de granitos\n",
    "# con las acumulaciones por derrama\n",
    "a += c\n",
    "print(a)"
   ]
  },
  {
   "cell_type": "code",
   "execution_count": null,
   "id": "d7fc4334",
   "metadata": {},
   "outputs": [],
   "source": [
    "# Hagamos una corrida con el código completo\n",
    "# Creamos una pila 20 x 20 llamando a la clase de construcción de pilas SandPile, con un nivel de 10\n",
    "# que se aplica a cada elemento del arreglo (i.e. quedan por encima del umbral)\n",
    "pile = SandPile(n=20, level=10)\n",
    "print(pile.run())\n",
    "# Notar que se requieren 332 paso para llegar al equilibrio y se produjeron 53,336 cascadas"
   ]
  },
  {
   "cell_type": "code",
   "execution_count": null,
   "id": "2805e38a",
   "metadata": {},
   "outputs": [],
   "source": [
    "pile.draw()   # invocamos a la visualización de la reticula una vez terminada la primera corrida \n",
    "# Notar que se observa una geometría fractal "
   ]
  },
  {
   "cell_type": "code",
   "execution_count": null,
   "id": "afedf677",
   "metadata": {},
   "outputs": [],
   "source": [
    "# Se crean una serie de frames (reticulas) para cada paso hasta alcanzar el equilibrio\n",
    "pile.animate(frames=100, step=pile.drop_and_run)  # las frames que se visualizan son las que\n",
    "# resultan de las primeras 100 corridas\n",
    "# Notar que se pierde la estructura fractal"
   ]
  },
  {
   "cell_type": "code",
   "execution_count": null,
   "id": "f2ff6d78",
   "metadata": {},
   "outputs": [],
   "source": [
    "# Se grafica una serie de tiempo de las células que presentan cascadas\n",
    "plt.plot(pile.toppled_seq)\n",
    "#decorate(xlabel='Time Steps', ylabel='Number of toppled cells')     # Esta función está disponible\n",
    "                                               # en la librería utils que también es importada de\n",
    "                                               # un URL"
   ]
  },
  {
   "cell_type": "code",
   "execution_count": null,
   "id": "18e555ab",
   "metadata": {},
   "outputs": [],
   "source": [
    "np.random.seed(17)       # fijamos la semilla aleatoria para generar mismos resultados en\n",
    "                         # distintas simulaciones\n",
    "\n",
    "pile = SandPile(n=20, level=10)   # Construimos la pila de arena 20 x 20\n",
    "print(pile.run())                 # Hacemos una primera corrida\n",
    "\n",
    "plt.figure(figsize=(10, 4))\n",
    "plt.subplot(1, 3, 1)\n",
    "pile.draw()                       # Se grafica a retícula al termino de la primera corrida\n",
    "\n",
    "plt.subplot(1, 3, 2)\n",
    "for i in range(20):\n",
    "    pile.drop_and_run()          # Se grafica la retícula al término de 20 corridas más\n",
    "pile.draw()\n",
    "\n",
    "plt.subplot(1, 3, 3)\n",
    "for i in range(200):\n",
    "    pile.drop_and_run()         # Se grafica la retícula al término de 200 corridas más\n",
    "pile.draw()\n",
    "\n",
    "plt.tight_layout()              # Se almacenan las imágenes en el archivo figs\n",
    "savefig('figs/chap08-1')"
   ]
  },
  {
   "cell_type": "markdown",
   "id": "1010e4f3",
   "metadata": {},
   "source": [
    "#### Distibuciones de colas anchas como regularidad estadística "
   ]
  },
  {
   "cell_type": "code",
   "execution_count": null,
   "id": "d8b47537",
   "metadata": {},
   "outputs": [],
   "source": [
    "# Se crea una nueva pila llamando a la Clase SandPile\n",
    "pile2 = SandPile(n=50, level=30)\n",
    "pile2.run()\n",
    "pile2.draw()"
   ]
  },
  {
   "cell_type": "markdown",
   "id": "db323449",
   "metadata": {},
   "source": [
    "Se corre el modelo de la pila por un cierto número de periodos registrando la duracióm ($T$) \n",
    "y el número de células afectadas -tamaño de avalancha- $S$)"
   ]
  },
  {
   "cell_type": "code",
   "execution_count": null,
   "id": "3b910694",
   "metadata": {},
   "outputs": [],
   "source": [
    "np.random.seed(17)\n",
    "\n",
    "iters = 100000           # número de corridas a realizar\n",
    "# \n",
    "res = [pile2.drop_and_run() for _ in range(iters)]   # en res se almacena tanto la duración como\n",
    "                                                     # el tamaño (T, S) de las corridas a través \n",
    "                                                     # de las corridas"
   ]
  },
  {
   "cell_type": "code",
   "execution_count": null,
   "id": "68b0978e",
   "metadata": {},
   "outputs": [],
   "source": [
    "T, S = np.transpose(res)   # desempacamos la tupla res en dos arreglos de numpy"
   ]
  },
  {
   "cell_type": "code",
   "execution_count": null,
   "id": "2eb5a9e8",
   "metadata": {},
   "outputs": [],
   "source": [
    "# Filtramos corridas que se estabilizaron en un solo periodo y que no produjeron cascada alguna\n",
    "T = T[T>1]               \n",
    "S = S[S>0]"
   ]
  },
  {
   "cell_type": "code",
   "execution_count": null,
   "id": "fffa66bd",
   "metadata": {},
   "outputs": [],
   "source": [
    "# Importamos libreria empiricaldist que contiene un método para calcular frecuencias relativas\n",
    "try:\n",
    "    import empiricaldist\n",
    "except ImportError:               # Si no esta instalada en Anaconda, la instalamos\n",
    "    !pip install empiricaldist"
   ]
  },
  {
   "cell_type": "code",
   "execution_count": null,
   "id": "fe60ee4a",
   "metadata": {},
   "outputs": [],
   "source": [
    "from empiricaldist import Pmf  # importamos las distribucione marginales (i.e., frecuencia relativa)\n",
    "\n",
    "pmfT = Pmf.from_seq(T)\n",
    "pmfS = Pmf.from_seq(S)"
   ]
  },
  {
   "cell_type": "code",
   "execution_count": null,
   "id": "9c814406",
   "metadata": {},
   "outputs": [],
   "source": [
    "# Hacemos las visualizaciones con escala lineal\n",
    "plt.figure(figsize=(10, 5))\n",
    "plt.subplot(1, 2, 1)\n",
    "\n",
    "pmfT.plot(label='T')\n",
    "decorate(xlabel='Duración de la avalancha',\n",
    "                 ylabel='PMF',\n",
    "                 xlim=[1, 50], loc='upper right')\n",
    "\n",
    "plt.subplot(1, 2, 2)\n",
    "pmfS.plot(label='S')\n",
    "decorate(xlabel='Tamaño de la avalancha',\n",
    "                 xlim=[1, 50])\n",
    "\n",
    "savefig('figs/chap08-2')"
   ]
  },
  {
   "cell_type": "code",
   "execution_count": null,
   "id": "98ecea08",
   "metadata": {},
   "outputs": [],
   "source": [
    "# Hacemos las mismas visualizaciones, pero ahora en escala logarítmica\n",
    "\n",
    "# Calculo de las pendientes\n",
    "def slope(xs, ys):\n",
    "    return np.diff(np.log(ys)) / np.diff(np.log(xs))\n",
    "\n",
    "plt.figure(figsize=(10, 5))\n",
    "plt.subplot(1, 2, 1)\n",
    "\n",
    "xs = [2, 600]               # valores mínimo y máximo en el eje x (Duración)\n",
    "ys = [1.3e-1, 2.2e-4]       # valores máximo y mínimo en el eje y (frecuencia)\n",
    "print(slope(xs, ys))        # Imprimimos pendiente de primera gráfica\n",
    "\n",
    "options = dict(lw=3, color='gray', alpha=0.3) \n",
    "plt.plot(xs, ys, **options)                 # Grafica de la línea recta a partir de dos puntos\n",
    "\n",
    "pmfT.plot(lw=0, marker='.', label='T')           # Gráfica de la frecuencia relativa \n",
    "decorate(xlabel='Duración de la avalancha',\n",
    "                 xlim=[1, 1000],\n",
    "                 ylabel='PMF',\n",
    "                 xscale='log',\n",
    "                 yscale='log',\n",
    "                 loc='upper right')\n",
    "\n",
    "plt.subplot(1, 2, 2)\n",
    "\n",
    "xs = [1, 5000]\n",
    "ys = [1.3e-1, 2.3e-5]\n",
    "print(slope(xs, ys))\n",
    "\n",
    "plt.plot(xs, ys, **options)\n",
    "pmfS.plot(lw=0, marker='.', label='S')\n",
    "decorate(xlabel='Tamaño de la avalanca',\n",
    "                 xlim=[1, 5600],\n",
    "                 xscale='log',\n",
    "                 yscale='log')\n",
    "\n",
    "savefig('figs/chap08-3')"
   ]
  },
  {
   "cell_type": "markdown",
   "id": "688e7d6f",
   "metadata": {},
   "source": [
    "Para valores antre 1 y 100 (escala logarítmica), las distribuciones empíricas son casi líneas rectas.\n",
    "lo que es característico de una distribución con colas anchas. Las líneas tienen pendiente casi \n",
    "igual a -1,lo que sugiere que la distribución sigue una ley de la potencia con paramétro próximo a 1\n",
    "\n",
    "Para valores mayor a 100, la distribucion se derrumba de manera acelerada que lo ocurre con la ley\n",
    "de la potencia, lo que significa que hay pocos valores extremos con respecto a los que predice el \n",
    "modelo. Esto se puede deber al tamaño finito de la pila de arena. Quizás con pilas de mayor \n",
    "tamaño las distribuciones empíricas y teoricas se asemejan más\n",
    "\n",
    "Otra posibilidad es que no sea una ley de la potencia, pero lo que es indudable es que si se trata\n",
    "de una distribución de colas anchas"
   ]
  },
  {
   "cell_type": "markdown",
   "id": "903e5145",
   "metadata": {},
   "source": [
    "## (6) Sugarscape en Python"
   ]
  },
  {
   "cell_type": "markdown",
   "id": "f8936338",
   "metadata": {},
   "source": [
    "En esta implementación de Sugarscape, las celdas de la retícula tienen una capacidad máxima de \n",
    "producción de azúcar. Existen regiones con alto contenido de azucar (capacidad de 4) y otras no tanto \n",
    "(capacidades de 3, 2 y 1)\n",
    "\n",
    "Inicialmente hay un número determinado de agentes ubicados al azar en celdas de Sugarscape. Cada agente tiene tres atributos definidos de forma aleatoria: (i) Azúcar: los agentes tienen una dotación definida con una distribución uniforme que oscila en un rango de unidades. (ii) Metabolismo: los agentes deben consumir cierta cantidad de azúcar, la cual ocurre con una uniforme definida entre ciertos valores. (iii) Visión: cada agente puede ver la azucar que existe en celdas vecinas y mover a aquella que tiene mayor disponibilidad; aunque las visiones entre agentes son diferentes, el radio de acción de los agentes se establece también con una uniforme.\n",
    "\n",
    "En cada paso de tiempo, los agentes se mueven uno a uno en un orden aleatorio. Cada agente sigue las\n",
    "siguientes reglas: (i) Analiza k celdas en cada una de las 4 direcciones de los puntos cardinales, en donde k define el radio de visión. (ii) Elige las celdas desocupadas con la mayor cantidad de azúcar; en caso de empate elige la celda más cercana y entre ellas la definitiva se toma al azar. (iii) Los \n",
    "agentes se mueven a la celda seleccionada y cosechan, lo obtenido se agrega a su riqueza acumulada dejando la celda vacía. (iv) El agente consume parte de su riqueza, dependiendo de su metabolismo; si el resultado final es negativo, el agente muere de hambre y es removido del entorno.\n",
    "\n",
    "Después de que todos los agentes realizan los pasos anteriores, las celdas vuelven a producir azúcar en una unidad por periodo de tiempo hasta alcanzar la capacidad posible definida por\n",
    "el grado de fertilidad de la región\n",
    "\n",
    "\n",
    "\n",
    "\n",
    "\n",
    "\n"
   ]
  },
  {
   "cell_type": "markdown",
   "id": "5ccdf076",
   "metadata": {},
   "source": [
    "#### Construcción de rutinas en el código principal para definir la topografía de Sugarscape \n",
    "Esto se hace haciendo referencia de la distancia de dos celdas específicas de la retícula (pico de la\n",
    "montaña) con respecto a cada una de las celdas del espacio. Entre mayor sea la distancia menor\n",
    "es la capacidad de la celda para producir azúcar; es decir, se establece una relación inversa entre\n",
    "distancia y cosecha máxima posible.\n",
    "\n",
    "Para contruir el entorno en Sugarscape necesitamos crear, en primera instancia, una retícula en la\n",
    "que los agentes ocupen posiciones de acuerdo con sus coordenadas.\n",
    "Con este fín, la función  make_locs(n, m) -que se presenta a continuación- toma las dimensiones \n",
    "de la reticula y regresa un arreglo, en donde cada renglón es una coordenada en la retícula"
   ]
  },
  {
   "cell_type": "code",
   "execution_count": null,
   "id": "d1784e2b",
   "metadata": {},
   "outputs": [],
   "source": [
    "def make_locs(n, m):\n",
    "    \"\"\"Crear un arreglo en el que cada renglón es\n",
    "       un índice de una retícula n x m  \n",
    "    \n",
    "    n: int, número de renglones\n",
    "    m: int, número de columnas\n",
    "    \n",
    "    returns: arreglo NumPy\n",
    "    \"\"\"\n",
    "    t = [(i, j) for i in range(n) for j in range(m)]   # loop anidado que barre renglones y columnas\n",
    "                                                    # y establece una lista cuyos elementos\n",
    "                                                    # son las coordenadas  de las celdas de Sugarscape\n",
    "                                                    # en donde potencialmente\n",
    "                                                    # se pueden posicionar los agentes\n",
    "    return np.array(t)                              # se regresa una arreglo-columna"
   ]
  },
  {
   "cell_type": "code",
   "execution_count": null,
   "id": "3c1a9655",
   "metadata": {},
   "outputs": [],
   "source": [
    "# Asignamos las dimensiones de la retícula para generar las coordenadas de las celdas en la retícula\n",
    "make_locs(2, 3)"
   ]
  },
  {
   "cell_type": "markdown",
   "id": "6595ad7e",
   "metadata": {},
   "source": [
    "En una segunda función: make_visible_locs(vision)  toma el rango (radio) de la visión de los agentes\n",
    "y regresa un arreglo  en el que cada renglón es la coordenada de las celdas visibles para el agente.\n",
    "Estas celdas se ubican a distancias cada vez mayores. Posteriormente estas celdas se revuelven \n",
    "aleatoriamente."
   ]
  },
  {
   "cell_type": "code",
   "execution_count": null,
   "id": "a3a5ab4e",
   "metadata": {},
   "outputs": [],
   "source": [
    "def make_visible_locs(vision):\n",
    "    \"\"\"Calcula un arreglo con las coordenadas \n",
    "    de las celdas visibles en la vecindad de un agente\n",
    "        \n",
    "    vision: int distancia\n",
    "    \"\"\"\n",
    "    def make_array(d):           # Crea un arreglo que define las celdas visibles cuyas coordenadas\n",
    "                                 # en los cuatro puntos cardinales de la vecindad están a una \n",
    "                                 # distancia 'd' de la celda central\n",
    "        \"\"\"Genera celdas visibles a distancias crecientes.\"\"\"\n",
    "        a = np.array([[-d, 0], [d, 0], [0, -d], [0, d]])      # vecindad Von Newmann\n",
    "        np.random.shuffle(a)     # mezcla los elementos del arreglo-columna \n",
    "        return a\n",
    "                     \n",
    "    arrays = [make_array(d) for d in range(1, vision+1)] \n",
    "        # Crea una plantilla (arrays) en la que cada renglón esta compuesto por arreglos que indican\n",
    "        # la distancia de las celdas que están a una distancia 'd' de la celda central de la vecindad,\n",
    "        # de tal forma que hay tantos renglones como distancia intermedias hay en el radio de\n",
    "        # accion (vision) del agente en cuestión\n",
    "    return np.vstack(arrays)    # reacomoda todos los arreglos en arrays para generar un\n",
    "                                # solo arreglo-columna"
   ]
  },
  {
   "cell_type": "code",
   "execution_count": null,
   "id": "d30bcf71",
   "metadata": {},
   "outputs": [],
   "source": [
    "# Se analiza a visibilidad de un agente que tiene una visión de radio 2\n",
    "# Notar que las coordendas están ordenadas en orden creciente (ie., las más cercanas van primero)\n",
    "make_visible_locs(2)"
   ]
  },
  {
   "cell_type": "markdown",
   "id": "d5c32ffe",
   "metadata": {},
   "source": [
    "En la siguiente función se obtiene un arreglo que contiene las distancias de las coordenadas de cada celda de la retícula con respecto a una coordenada dada. Esta rutina es importante para establecer\n",
    "la topografía de Sugarscape en la que los picos de la montaña son los más fertiles, seguidos de sus\n",
    "faldas, mientras que las planicies son desérticas."
   ]
  },
  {
   "cell_type": "code",
   "execution_count": null,
   "id": "69f91f28",
   "metadata": {},
   "outputs": [],
   "source": [
    "def distances_from(n, i, j):\n",
    "    \"\"\"Calcula un arreglo de distancias.\n",
    "    \n",
    "    n: tamaño del arreglo\n",
    "    i, j: coordenada de referencia para calcular\n",
    "          las distancias\n",
    "    \n",
    "    returns: arreglo en números reales (float)\n",
    "    \"\"\"\n",
    "    X, Y = np.indices((n, n))    # Crea dos matrices, X con valores repetidos en c/renglón de 0 a n \n",
    "                                 # => hace explícitos los índices de renglones\n",
    "                                 # Y con valores repetidos en c/columnas de 0 a n\n",
    "                                 # => hace explícitos los índices de las columnas\n",
    "    return np.hypot(X-i, Y-j)    # Calcula las distancias de todas las coordenadas de las celdas\n",
    "                                 # con repecto a la coordenada (i, j)"
   ]
  },
  {
   "cell_type": "code",
   "execution_count": null,
   "id": "785a3e78",
   "metadata": {},
   "outputs": [],
   "source": [
    "# En una retícula 5 x 5 calculamos las distancias con respecto a la celda con i = 2, j =2\n",
    "dist = distances_from(5, 2, 2)\n",
    "dist"
   ]
  },
  {
   "cell_type": "markdown",
   "id": "5ad06246",
   "metadata": {},
   "source": [
    "Usamos np.digitize para establecer la capacidad de producción de cada celda a partir de la\n",
    "distancia de la celda con relación al pico (i.e., la distancia más pequeña entre la celda y \n",
    "las dos coordenadas de las celdas elegidas para representar los dos picos en Sugarscape) "
   ]
  },
  {
   "cell_type": "code",
   "execution_count": null,
   "id": "715d4743",
   "metadata": {},
   "outputs": [],
   "source": [
    "# Como insumo proporcionamos las distancias de las celdas de la retícula con respecto a una celda\n",
    "# en particular (dist) y clasificamos esas distancias con respecto a los índices de un listado de \n",
    "# bins definido también como insumo. Por lo tanto, a los valores de distancia más pequeños, 0, se\n",
    "# se les asigna el indice más elevado (3 en este caso) \n",
    "bins = [3, 2, 1, 0]\n",
    "np.digitize(dist, bins)"
   ]
  },
  {
   "cell_type": "markdown",
   "id": "becd0116",
   "metadata": {},
   "source": [
    "A continuación definimos una clase para la creación del entorno (retícula de azúcar) en Sugarscape.\n",
    "Esta clase, a su vez, invoca a una clase antecesora (Class2D) con los funciones adecuadas para hacer\n",
    "visualizaciones de retículas en dos dimensiones.\n",
    "\n",
    "En este modelo computacional tenemos dos tipos de objetos importantes: los agentes-objetos y los\n",
    "entornos-objeto; estos últimos describen el espacio geográfico de Sugarscape; es decir, el entorno en que se desenvuelven los agente del modelo. Por la tanto, hablamos de una clase-padre: 'Cell2D' para las visualizaciones de las retículas, de una clases-hija: 'Sugarscape' para la creación del entorno en 2-D, y una clase complementaria llamada 'Agent' para la creación de los agentes particulares con sus atributos y métodos.\n",
    "\n",
    "Desde la clase Agent se invocan métodos definidos en la clase Sugarscape como las reglas de \n",
    "movilización y de cosechar para obtener información que permite modificar sus atributos. Desde la clase Sugarscape creamos instancias de Agent para determinar sus atributos y de ahí posicionarlo en la geografía y aplicar las reglas de movlilización y cosecha. "
   ]
  },
  {
   "cell_type": "markdown",
   "id": "bd66f229",
   "metadata": {},
   "source": [
    "#### Las funciones (o métodos) a definir en la clase del entorno son las siguiente:\n",
    "    (i) La construcción del entorno con el método mágico __ init __ que toma como argumentos:\n",
    "    el tamaño de la retícula y un diccionario de parámetros, entre ellos el número de agentes que \n",
    "    pueblan el entorno.\n",
    "    (ii) La creación de capacidad de producción de azúcar o valor máximo a cosechar con el método:   make_capacity(self)\n",
    "    (iii) La dispersión de los agentes de la población en el entorno con el método: make_agents(self), en donde se define su posición inicial.\n",
    "    (iv) La dinámica de crecimiento de azúcar en el tiempo a través del método: grow(self)\n",
    "    (v) La búsqueda de azúcar y desplazamiento de agentes en el entorno con el método:look_and_move(self, center, vision)\n",
    "    (vi) La cosecha de azúcar en el sitio elegido por el agente por medio del métódo: harvest(self, loc)\n",
    "    (vii) La selección aleatoria de agentes para avanzar en cada periodo por medio del método: step(self)\n",
    "    (viii) La creación de nuevos agentes de ser necesario con el método: add_agent(self)\n",
    "    (ix) La ubicación aleatorio de nuevos agentes en celdas no ocupadas con random_loc(self)\n",
    "    (x) La obtención de coordenadas de la posición de los agentes, las cuales se emplean en la visualización de la retícula con random_loc(self)\n",
    "    (xi) La visualización del entorno y los agentes en movimiento con draw(self)."
   ]
  },
  {
   "cell_type": "code",
   "execution_count": null,
   "id": "79e74763",
   "metadata": {},
   "outputs": [],
   "source": [
    "# Importamos la clase-padre Cell2D y sus librerías para hacer visualizaciones\n",
    "from Cell2D import Cell2D, draw_array\n",
    "\n",
    "class Sugarscape(Cell2D):\n",
    "    \"\"\"Describe el entorno de Sugarscape del libro seminal de Epstein y Axtell \"\"\"\n",
    "    \n",
    "    def __init__(self, n, **params):        # (i) Método para construir entornos\n",
    "        \"\"\"Inicializamos los atributos de las celdas del entorno.\n",
    "\n",
    "        n: número de renglones y columnas\n",
    "        params: diccionario de parámetros\n",
    "        \"\"\"\n",
    "        self.n = n                       # precisamos los datos de la instancia (entorno)\n",
    "        self.params = params             # el diccionario de parámetros se enlistan más abajo\n",
    "                                         # cuando se requieran y las llaves para accederlos son\n",
    "                                         # 'starting_box', 'num_agents', 'grow_rate', 'replace'\n",
    "        \n",
    "        # Creamos una lista para rastrear el número de agentes existentes en el entorno \n",
    "        # en un tiempo dado\n",
    "        self.agent_count_seq = []        # Esta lista es un ejemplo de atributo del entorno\n",
    "    \n",
    "        # Hacemos un arreglo con los datos de capacidad en las celdas de la retícula\n",
    "        # creados con un método: make_capacity() que es un método de Sugarscape -ver más abajo-\n",
    "        self.capacity = self.make_capacity()\n",
    "        \n",
    "        # Inicializamos el arreglo en su capacidad sembrada\n",
    "        self.array = self.capacity.copy()    # recordar que con _.copy se hace un nuevo objeto\n",
    "        \n",
    "        # Dispersamos a los agentes en la retícula\n",
    "        # para ello invocamos a otro método: make_agents()  de esta misma clase\n",
    "        self.make_agents()\n",
    "    \n",
    "    # Nota metodológica: notar que en el propio método de construcción del entorno, invocamos\n",
    "    # otros métodos que facilitan la descripción de instancias de la misma clase\n",
    "    \n",
    "    \n",
    "    # (ii) Método para establecer la capacidad de cosecha en Sugarscape\n",
    "    def make_capacity(self):\n",
    "        \"\"\"genera el arreglo de la capacidad.\"\"\"\n",
    "        \n",
    "        # Calculamos la distancia de cada célula con respecto a los dos picos de las montañas\n",
    "        # definidas en coordenadas específicas: la primera en el noroeste, la segunda en el suroeste \n",
    "        dist1 = distances_from(self.n, 15, 15)    # recordar que esta función es definida feura\n",
    "        dist2 = distances_from(self.n, 35, 35)    # de la clase en el código principal\n",
    "        dist = np.minimum(dist1, dist2)           # establecemos a que montaña pertenece la celda\n",
    "                                                  # en función de su cercanía con los dos picos\n",
    "        \n",
    "        # las celdas en el arreglo de capacidad se definen en función de la distancia con respecto\n",
    "        # a su pico\n",
    "        bins = [21, 16, 11, 6]    # se define una lista con el rango en el que oscilan las distancias\n",
    "        a = np.digitize(dist, bins)      # la capacidad se genera con el índice de los bins y\n",
    "                                         # por lo tanto a mayor distancia  menor capacidad (6)\n",
    "        return a\n",
    "     \n",
    "    # (iii) Método para dispersión de los agentes en las celdas de Sugarscape\n",
    "    def make_agents(self):\n",
    "        \"\"\"Hacemos y localizamos a los agentes.\"\"\"\n",
    "        \n",
    "        # Determinamos en donde los agentes se ubican en las condiciones iniciales \n",
    "        n, m = self.params.get('starting_box', self.array.shape)  # del vector de parámetros\n",
    "                                                                  # tomamos las dimensiones de la\n",
    "                                                                  # retícula\n",
    "                                              # Recordar que en self.array se definen capacidades\n",
    "        locs = make_locs(n, m)                # Creamos un arreglo con los índices de las celdas\n",
    "        np.random.shuffle(locs)               # y los mezclamos, esto se hace para que los agentes\n",
    "                                              # sean invocados al azar\n",
    "            \n",
    "        # Como vamos a ubicar a los agentes tenemos que invocar a la clase Agent() en donde\n",
    "        # son creados\n",
    "        num_agents = self.params.get('num_agents', 400)    # del vector de parámetros\n",
    "                                                           # tomamos el tamaño de la población\n",
    "        assert(num_agents <= len(locs))                    # En caso de que el argumento es falso\n",
    "                                                           # se hace una excepción: AssertionError\n",
    "                                                           # i.e., cuando hay más agentes que celdas\n",
    "        \n",
    "        # Hacemos un listado llamando a la clase Agent() dando como argumentos la ubicación y\n",
    "         # el diccionario de parámetros    \n",
    "        self.agents = [Agent(locs[i], self.params)        # En locs(i) se definen posiciones mezcladas         \n",
    "                       for i in range(num_agents)]        # invocamos a todos los agentes ya que        \n",
    "                                                          # iteramos para toda la población\n",
    "        # Rastreamos la retícula para establecer que celdas quedaron ocupadas\n",
    "        self.occupied = set(agent.loc for agent in self.agents) #creamos un conjunto con el listado\n",
    "                                                                # de agentes\n",
    "                                                           # Notar que estamos invocando\n",
    "                                                           # un atributo de la clase Agent:\n",
    "                                                           # agent.loc\n",
    "                                                                \n",
    "     # Método (iv): Establecemos el sembrado de azúcar y especificamos capacidad de la cosecha       \n",
    "    def grow(self):\n",
    "        \"\"\"Agregamos azúcar a todas las celdas y la topamos con su capacidad.\"\"\"\n",
    "        grow_rate = self.params.get('grow_rate', 1)  # del vector de parámetros\n",
    "                                                 # establecemos cuantas unidades crecen por periodo\n",
    "       # el nivel producido de azúcar va cambiando en cada periodo, pero sin exceder de un límite\n",
    "        self.array = np.minimum(self.array + grow_rate, self.capacity)\n",
    "                            # Notar que self.array tiene el acervo disponible en el periodo\n",
    "                            # mientras que self.capacity tiene los límites máximos de cosecha\n",
    "        \n",
    "    # Método (v): Buscamos azúcar en la vecindad y nos movemos a la mejor celda\n",
    "    def look_and_move(self, center, vision):\n",
    "        \"\"\"Encuentra la celda con más azúcar dentro de las visibles.\n",
    "        \n",
    "        center: tuple, coordenadas de la celda central\n",
    "        vision: int, máxima distancia visible\n",
    "        \n",
    "        returns: tuple, coordenada de la mejor celda\n",
    "        \"\"\"\n",
    "        # Encuentra todas las celdas visibles\n",
    "        locs = make_visible_locs(vision)  # Invocamos a una función que se definió afuera de la clase\n",
    "                                          # Recordar que ahora en locs tenemos distancias con\n",
    "                                          # respecto a celda central de la vecindad\n",
    "        locs = (locs + center) % self.n   # se usa operación de módulo % para fronteras periódicas\n",
    "        \n",
    "        \n",
    "        # Convierte los renglones del arreglo de locaciones de vecinos en tuplas\n",
    "        locs = [tuple(loc) for loc in locs]\n",
    "        \n",
    "        # Selecciona celdas desocupadas (sin agentes) por que solo ahí puede cosechar azúcar\n",
    "        empty_locs = [loc for loc in locs if loc not in self.occupied]\n",
    "        \n",
    "        # si todas las celdas visibles están ocupadas no hacer nada, no moverse\n",
    "        if len(empty_locs) == 0:\n",
    "            return center                # Al no encontrar azúcar regresa posición original\n",
    "        \n",
    "        # Checar el nivel de azúcar en cada celda desocupada\n",
    "        t = [self.array[loc] for loc in empty_locs]\n",
    "        \n",
    "        # Encuentra la mejor posición y se mueve para allá, por lo que esa posición es la que regresa\n",
    "        # (en caso de empate, argmax regresa la primera, que es la más cercan por que asi se\n",
    "        # guardaron \n",
    "        i = np.argmax(t)\n",
    "        return empty_locs[i]\n",
    "    \n",
    "    # Método (vi): Recolecta la azúcar de una posición y la vacía\n",
    "    def harvest(self, loc):\n",
    "        \"\"\"Remueve y regresa azúcar de `loc`.\n",
    "        \n",
    "        loc: tuple, coordenadas\n",
    "        \"\"\"\n",
    "        sugar = self.array[loc] # con las coordenadas se puede saber cuanta azúcar hay\n",
    "        self.array[loc] = 0     # remueve la azúcar de esas coordenadas            \n",
    "        return sugar            # regresa la azúcar acumulada\n",
    "    \n",
    "    # Método (vii) Actualización en Sugarscape en cada paso\n",
    "    def step(self):\n",
    "        \"\"\"Ejecuta un paso de tiempo.\"\"\"\n",
    "        replace = self.params.get('replace', False)       # Si el código no incluye la posibilidad\n",
    "                                                    #de sustituir agentes muertos por otros\n",
    "        \n",
    "        # loop para la activación de los agentes al azar\n",
    "        random_order = np.random.permutation(self.agents)\n",
    "        for agent in random_order:\n",
    "            \n",
    "            # Deja a la célula actual como desocupada\n",
    "            self.occupied.remove(agent.loc)\n",
    "            \n",
    "            # Ejecuta un paso de la clase Agent()\n",
    "            agent.step(self)\n",
    "\n",
    "            # Si el agente esta muerto, lo remueve de la lista\n",
    "            if agent.is_starving() or agent.is_old():\n",
    "                self.agents.remove(agent)\n",
    "                if replace:                       # si existe la posibilidad de reemplazar\n",
    "                    self.add_agent()              # se debe agregar a sugarscape\n",
    "            else:\n",
    "                # Si no esta muerto marca a la nueva célula como ocupada\n",
    "                self.occupied.add(agent.loc)\n",
    "\n",
    "        # Actualiza la serie de tiempo que mide el tamaño de la población de agentes\n",
    "        self.agent_count_seq.append(len(self.agents))   # Contabiliza agentes existentes\n",
    "        \n",
    "        # Deja que la cantidad de azúcar disponble en celda crezca cada periodo\n",
    "        self.grow()\n",
    "        return len(self.agents)      # Regresa el tamaño de la población\n",
    "    \n",
    "    # Método (viii): Creacion de agentes nuevos en caso de muerte por hambre o edad\n",
    "    def add_agent(self):\n",
    "        \"\"\"Genera un nuevo agente al azar.\n",
    "                \n",
    "        returns: new Agent\n",
    "        \"\"\"\n",
    "        new_agent = Agent(self.random_loc(), self.params)     # crea una nueva instancia de Agent()\n",
    "        self.agents.append(new_agent)                         # lo suma a la lista de agentes\n",
    "        self.occupied.add(new_agent.loc)                # lo suma a la lista de locaciones ocupadas\n",
    "        return new_agent\n",
    "    \n",
    "    # Método (ix) Selección de ubicaciones para los nuevos agentes\n",
    "    def random_loc(self):\n",
    "        \"\"\"Escoger al azar una celda desocupada\n",
    "        \n",
    "        returns: tuple coordenadas\n",
    "        \"\"\"\n",
    "        while True:\n",
    "            loc = tuple(np.random.randint(self.n, size=2))   # genera una tupla con las coordenadas\n",
    "                                                             # al azar\n",
    "            if loc not in self.occupied:             # si esa ubicación no está ocupada sale del loop                     \n",
    "                return loc\n",
    "    \n",
    "    # Método (x): Invoca a rutinas de ilustración de la retícua disponibles en la clase Cell2D\n",
    "    def draw(self):\n",
    "        \"\"\"Visualiza la retícula.\"\"\"\n",
    "        draw_array(self.array, cmap='YlOrRd', vmax=9, origin='lower')\n",
    "        \n",
    "        # Dibuja a los agentes en la retícula\n",
    "        xs, ys = self.get_coords()                           # toma sus coordenadas con esta función\n",
    "        self.points = plt.plot(xs, ys, '.', color='red')[0]\n",
    "    \n",
    "    # Método (xi): establece las coordenadas que los agentes tienen en Sugarscape \n",
    "    def get_coords(self):\n",
    "        \"\"\"Obtiene las coordenadas de los agentes.\n",
    "        \n",
    "        Transforma de (row, col) a (x, y).\n",
    "        \n",
    "        returns: tuple de secuencias, (xs, ys)\n",
    "        \"\"\"\n",
    "        agents = self.agents\n",
    "        rows, cols = np.transpose([agent.loc for agent in agents])  # desempaca coordenadas \n",
    "        xs = cols + 0.5                                       # Posiciona a los agentes en punto\n",
    "        ys = rows + 0.5                                       # intermedio de celdas\n",
    "        return xs, ys"
   ]
  },
  {
   "cell_type": "code",
   "execution_count": null,
   "id": "7593d68d",
   "metadata": {},
   "outputs": [],
   "source": [
    "# Definimos otra clase para la creación de agentes, en donde se definen condiciones al nacer y\n",
    "# se establece su actividad cotidiana\n",
    "class Agent:\n",
    "    \n",
    "    # Método para la creación de agentes\n",
    "    def __init__(self, loc, params):\n",
    "        \"\"\"Creamos un nuevo agente en una ubicación particular\n",
    "        \n",
    "        loc: tuple, coordenadas\n",
    "        params: diccionario de parámetros\n",
    "        \"\"\"\n",
    "        self.loc = tuple(loc)         # ubicación\n",
    "        self.age = 0                  # edad al nacer\n",
    "\n",
    "        # Extraemos los parámetros del diccionario con el método get\n",
    "        max_vision = params.get('max_vision', 6)\n",
    "        max_metabolism = params.get('max_metabolism', 4)\n",
    "        min_lifespan = params.get('min_lifespan', 10000)\n",
    "        max_lifespan = params.get('max_lifespan', 10000)\n",
    "        min_sugar = params.get('min_sugar', 5)\n",
    "        max_sugar = params.get('max_sugar', 25)\n",
    "        \n",
    "        # Elegimos los atributos a partir de los parámetros\n",
    "        self.vision = np.random.randint(1, max_vision+1)\n",
    "        self.metabolism = np.random.uniform(1, max_metabolism)\n",
    "        self.lifespan = np.random.uniform(min_lifespan, max_lifespan)\n",
    "        self.sugar = np.random.uniform(min_sugar, max_sugar)\n",
    "\n",
    "     # Actividad realizada paso a paso\n",
    "    def step(self, env):\n",
    "        \"\"\"Vemos en los alrededores, nos movemos, y cosechamos.\n",
    "        \n",
    "        env: nombre asignado a la instancia de Sugarscape en que \n",
    "        vive la población\n",
    "        \"\"\"\n",
    "        # Actualizamos atributos de la clase del entorno\n",
    "        self.loc = env.look_and_move(self.loc, self.vision)  # para ello se usa un método del entorno\n",
    "        self.sugar += env.harvest(self.loc) - self.metabolism # aquí otro métodos\n",
    "        self.age += 1                  # actualizamos la edad\n",
    "\n",
    "    # Vemos si se mantiene con vida\n",
    "    def is_starving(self):\n",
    "        \"\"\"Checamos si la acumulación de azucar es negativa.\"\"\"\n",
    "        return self.sugar < 0           # regresa un falso o verdadero según la condición\n",
    "    \n",
    "    # Checamos si ya llegó a su límite de edad\n",
    "    def is_old(self):\n",
    "        \"\"\"Checamos si ya excedio el límite de edad.\"\"\"\n",
    "        return self.age > self.lifespan"
   ]
  },
  {
   "cell_type": "code",
   "execution_count": null,
   "id": "cbb69b61",
   "metadata": {},
   "outputs": [],
   "source": [
    "# Hacemos una instancia de Sugarscape, a la que llamamos env, con una retícula 50 x 50\n",
    "# y 400 agentes en la oblación\n",
    "env = Sugarscape(50, num_agents=400)\n",
    "env.draw()   # Método de la Clase Sugarscape que, a su vez, llama un método de Cell2D\n",
    "# Nos muestra las condiciones iniciales"
   ]
  },
  {
   "cell_type": "code",
   "execution_count": null,
   "id": "7e1430fe",
   "metadata": {},
   "outputs": [],
   "source": [
    "from empiricaldist import Cdf\n",
    "# La distribución acumulada debe ser una línea recta ya que se trata de variables generados\n",
    "# con una uniforme\n",
    "cdf = Cdf.from_seq(agent.vision for agent in env.agents)\n",
    "cdf.plot()\n",
    "#decorate(xlabel='Vision', ylabel='CDF')"
   ]
  },
  {
   "cell_type": "code",
   "execution_count": null,
   "id": "4333d3a7",
   "metadata": {},
   "outputs": [],
   "source": [
    "cdf = Cdf.from_seq(agent.metabolism for agent in env.agents)\n",
    "cdf.plot()\n",
    "#decorate(xlabel='Metabolism', ylabel='CDF')"
   ]
  },
  {
   "cell_type": "code",
   "execution_count": null,
   "id": "8538c98c",
   "metadata": {},
   "outputs": [],
   "source": [
    "cdf = Cdf.from_seq(agent.sugar for agent in env.agents)\n",
    "cdf.plot()\n",
    "#decorate(xlabel='Sugar', ylabel='CDF')"
   ]
  },
  {
   "cell_type": "code",
   "execution_count": null,
   "id": "3f3d7d27",
   "metadata": {},
   "outputs": [],
   "source": [
    "# Mostramos la retícula del modelo al correr un solo paso\n",
    "env.step()\n",
    "env.draw()"
   ]
  },
  {
   "cell_type": "code",
   "execution_count": null,
   "id": "ad8b554f",
   "metadata": {},
   "outputs": [],
   "source": [
    "# Hacemos una animación con 50 frames visualizadas en el tiempo con pausas cortas\n",
    "env.animate(frames=50)"
   ]
  },
  {
   "cell_type": "code",
   "execution_count": null,
   "id": "04229625",
   "metadata": {},
   "outputs": [],
   "source": [
    "# Preguntamos por el tamaño de la población después de terminada la corrida\n",
    "len(env.agents)"
   ]
  },
  {
   "cell_type": "code",
   "execution_count": null,
   "id": "e39b87ee",
   "metadata": {},
   "outputs": [],
   "source": [
    "# Graficamos la evolución de la población a través del tiempo\n",
    "plt.plot(env.agent_count_seq)\n",
    "#decorate(xlabel='Time steps', ylabel='Number of Agents')"
   ]
  },
  {
   "cell_type": "code",
   "execution_count": null,
   "id": "8408c6b8",
   "metadata": {},
   "outputs": [],
   "source": [
    "# Volvemos a correr el modelo, y graficamos tres periodos: 0, 2 y 98\n",
    "env = Sugarscape(50, num_agents=400)\n",
    "three_frame(env, [0, 2, 98])          #usamos una rutina Utils a la que invoca Cell2D\n",
    "\n",
    "savefig('figs/chap09-3')              # se almacen en el foder fig del dashboard"
   ]
  },
  {
   "cell_type": "markdown",
   "id": "4823ae5e",
   "metadata": {},
   "source": [
    "#### Sugarscape con tiempo de vida finito para los agentes"
   ]
  },
  {
   "cell_type": "code",
   "execution_count": null,
   "id": "abfbd259",
   "metadata": {},
   "outputs": [],
   "source": [
    "# Suponemos que mueren entre los 60 y los 100, y hay reemplazo de agentes cuando mueren\n",
    "env = Sugarscape(50, \n",
    "                 num_agents=250,\n",
    "                 min_lifespan=60, \n",
    "                 max_lifespan=100, \n",
    "                 replace=True)\n",
    "\n",
    "env.animate(frames=100)"
   ]
  },
  {
   "cell_type": "code",
   "execution_count": null,
   "id": "0261c923",
   "metadata": {},
   "outputs": [],
   "source": [
    "# Graficamos la distibución acumulada de la riqueza\n",
    "cdf = Cdf.from_seq(agent.sugar for agent in env.agents)\n",
    "cdf.plot()\n",
    "#decorate(xlabel='Wealth', ylabel='CDF')\n",
    "# Después de 100 pasos de tiempo la distribución de la riqueza se sesga hacia la derecha;\n",
    "# es decir, la mayoría de los agentes tienen poca azúcar, y pocos tienen mucho"
   ]
  },
  {
   "cell_type": "code",
   "execution_count": null,
   "id": "5ca3ffe0",
   "metadata": {},
   "outputs": [],
   "source": [
    "# Veamos el nivel de riqueza por cuantiles\n",
    "cdf.quantile([0.25, 0.50, 0.75, 0.90])\n",
    "# Notar que el 25% más rico tiene 106 unidades versus el 25% más pobre que slo tiene 13 unidades"
   ]
  },
  {
   "cell_type": "code",
   "execution_count": null,
   "id": "81dc7f72",
   "metadata": {},
   "outputs": [],
   "source": [
    "# Volvemos a hacer la simulación con los mismos parámetros, pero ahora corremos el modelo 500\n",
    "# pasos, grabando la distribución de la riqueza cada 100 pasos\n",
    "\n",
    "np.random.seed(17)\n",
    "\n",
    "env = Sugarscape(50, num_agents=250,\n",
    "                 min_lifespan=60, max_lifespan=100, \n",
    "                 replace=True)\n",
    "\n",
    "cdf = Cdf.from_seq(agent.sugar for agent in env.agents)\n",
    "cdfs = [cdf]\n",
    "for i in range(5):\n",
    "    env.loop(100)\n",
    "    cdf = Cdf.from_seq(agent.sugar for agent in env.agents)\n",
    "    cdfs.append(cdf)"
   ]
  },
  {
   "cell_type": "code",
   "execution_count": null,
   "id": "f8131e73",
   "metadata": {},
   "outputs": [],
   "source": [
    "# Podemos ver como como cambia la distribución acumulada de la riqueza en el tiempo \n",
    "plt.figure(figsize=(10, 6))\n",
    "plt.subplot(1, 2, 1)\n",
    "\n",
    "def plot_cdfs(cdfs, **options):\n",
    "    for cdf in cdfs:\n",
    "        cdf.plot(**options)\n",
    "        \n",
    "plot_cdfs(cdfs[:-1], color='gray', alpha=0.3)\n",
    "plot_cdfs(cdfs[-1:], color='C0')\n",
    "decorate(xlabel='Wealth', ylabel='CDF')\n",
    "\n",
    "plt.subplot(1, 2, 2)\n",
    "plot_cdfs(cdfs[:-1], color='gray', alpha=0.3)\n",
    "plot_cdfs(cdfs[-1:], color='C0')\n",
    "decorate(xlabel='Wealth', ylabel='CDF', xscale='log')\n",
    "\n",
    "savefig('figs/chap09-4')\n",
    "# Notar que cerca de los 200 pasos la distribución se vuelve estacionaria, ya no cambia mucho,\n",
    "# En escala logarítmica (panel derecho) se aproxima a una normal, por lo que en la escala original\n",
    "# puede considerarse como una distribución de colas anchas"
   ]
  }
 ],
 "metadata": {
  "kernelspec": {
   "display_name": "Python 3 (ipykernel)",
   "language": "python",
   "name": "python3"
  },
  "language_info": {
   "codemirror_mode": {
    "name": "ipython",
    "version": 3
   },
   "file_extension": ".py",
   "mimetype": "text/x-python",
   "name": "python",
   "nbconvert_exporter": "python",
   "pygments_lexer": "ipython3",
   "version": "3.9.7"
  }
 },
 "nbformat": 4,
 "nbformat_minor": 5
}
