{
 "cells": [
  {
   "cell_type": "markdown",
   "id": "a6adc73b",
   "metadata": {},
   "source": [
    "# Taller de Programación en Python: Complejidad Social y Modelos Computacionales\n",
    "## Lección Py.3 Estructuras de datos simples\n",
    "### Impartido por: Gonzalo Castañeda\n",
    "Basado en: McKinney, Wes. 2018. “Python for Data Analysis. Data Wrangling with Pandas, NumPy, \n",
    "and IPython”, 2a edición, California USA: O’Reilly Media, Inc. Cap. 3. Section 3.1"
   ]
  },
  {
   "cell_type": "markdown",
   "id": "9dcbd3e6",
   "metadata": {},
   "source": [
    "## (1) Tuplas"
   ]
  },
  {
   "cell_type": "code",
   "execution_count": null,
   "id": "37fb808a",
   "metadata": {},
   "outputs": [],
   "source": [
    "# Objetos de tamaño fijo e inmutables\n",
    "# La forma más sencilla de crearlos es especificando valores separados por comas\n",
    "tup = 4, 5, 6      \n",
    "tup    # También se puede establecer con un  paréntesis redondo tup = (4, 5, 6)"
   ]
  },
  {
   "cell_type": "code",
   "execution_count": null,
   "id": "3b613d71",
   "metadata": {},
   "outputs": [],
   "source": [
    "# Cualquier secuencia de un iterador (colección) puede convertirse en una tupla\n",
    "tuple([4, 0, 2])   "
   ]
  },
  {
   "cell_type": "code",
   "execution_count": null,
   "id": "47bd1652",
   "metadata": {},
   "outputs": [],
   "source": [
    "# Como en otras colecciones de datos, los elementos particulares se pueden acceder con un []\n",
    "tup = tuple('string')    # Transformamos una cadena en una tupla  \n",
    "tup[0]   "
   ]
  },
  {
   "cell_type": "code",
   "execution_count": null,
   "id": "4245218a",
   "metadata": {},
   "outputs": [],
   "source": [
    "# Una vez creada una tupla, los elementos no pueden modificarse  (es un objeto inmutable)\n",
    "tup = tuple(['foo', [1, 2], True])   \n",
    "tup[2] = False  # Marca: TypeError: 'tuple' object does not support item assignment"
   ]
  },
  {
   "cell_type": "code",
   "execution_count": null,
   "id": "bc609f9b",
   "metadata": {},
   "outputs": [],
   "source": [
    "# Aunque si es posible cambiar un objeto mutable que se encuentra al interior de una tupla: [1, 2] \n",
    "# mediante el método append\n",
    "# Notar que los objetos al interior de una tupla pueden ser de diferentes tipos\n",
    "tup[1].append(3)  \n",
    "tup   "
   ]
  },
  {
   "cell_type": "code",
   "execution_count": null,
   "id": "a0ba2ba0",
   "metadata": {},
   "outputs": [],
   "source": [
    "# Concatenación de tuplas con   +  \n",
    "(4, None, 'foo') + (6, 0) + ('bar' ,) "
   ]
  },
  {
   "cell_type": "code",
   "execution_count": null,
   "id": "df94b201",
   "metadata": {},
   "outputs": [],
   "source": [
    "# Concatenación de tuplas con   *\n",
    "(4, None) * 3  "
   ]
  },
  {
   "cell_type": "code",
   "execution_count": null,
   "id": "fdefd4f4",
   "metadata": {},
   "outputs": [],
   "source": [
    "# Es possible desempacar (convertir) los elementos de las tuplas en variables:\n",
    "tup = (4, 5, 6)  \n",
    "a, b, c = tup   \n",
    "b     "
   ]
  },
  {
   "cell_type": "code",
   "execution_count": null,
   "id": "9b56ea48",
   "metadata": {},
   "outputs": [],
   "source": [
    "# Aplicación de desempacar: iteración sobre secuencias de tuplas o listas\n",
    "seq = [(1, 2, 3), (4, 5, 6), (7, 8, 9)]   ; \n",
    "for a, b, c in seq:                                  # el for itera sobre las tuplas\n",
    "   print('primero={0}, segundo={1}, tercero={2}'.format(a, b, c))   # letras corresponden a\n",
    "                                                     # elementos de las tuplas\n",
    "                                                     # toma los elementos de la tupla por separado"
   ]
  },
  {
   "cell_type": "code",
   "execution_count": null,
   "id": "29a37ec5",
   "metadata": {},
   "outputs": [],
   "source": [
    "# Debido a que el tamaño de la tupla y los elementos de las tuplas no pueden modificarse, \n",
    "# existen pocos métodos para estas estructuras\n",
    "# Count: calcula el número de ocurrencias en una tupla\n",
    "a = (1, 2, 2, 2, 3, 4, 2)  \n",
    "a.count(2)  "
   ]
  },
  {
   "cell_type": "code",
   "execution_count": null,
   "id": "95c54253",
   "metadata": {},
   "outputs": [],
   "source": [
    "# Otro caso: Obtener la posición de un valor específico \n",
    "tupla = (0, 1, 4, 3, 2, 3, 1, 3, 2)   \n",
    "tupla.index(4)\n",
    "# si hay dos valores iguales el resultado muestra la posición del primero"
   ]
  },
  {
   "cell_type": "markdown",
   "id": "02e1ca66",
   "metadata": {},
   "source": [
    "## (2) Listas"
   ]
  },
  {
   "cell_type": "code",
   "execution_count": null,
   "id": "84537259",
   "metadata": {},
   "outputs": [],
   "source": [
    "# Las listas son de tamaño variable, además de ser mutables; se definen con [ ]\n",
    "a_list = [2, 3, 7, None]  \n",
    "tup = ('foo', 'bar', 'baz')\n",
    "b_list = list(tup)              # convertmos una tupla en lista\n",
    "b_list[1] = 'peekaboo'          # las listas si son mutables\n",
    "print (a_list , b_list)"
   ]
  },
  {
   "cell_type": "code",
   "execution_count": null,
   "id": "aaf8fdb5",
   "metadata": {},
   "outputs": [],
   "source": [
    "# Se usan con frecuencia para generar un iterador\n",
    "gen = range(10)\n",
    "print(gen)           # range es un comando de python que establece un rango de un iterador\n",
    "list(gen)            # se construye una lista a partir de ese rango  "
   ]
  },
  {
   "cell_type": "code",
   "execution_count": null,
   "id": "a77f2d69",
   "metadata": {},
   "outputs": [],
   "source": [
    "# También podemos generar listas con números aleatorios\n",
    "import random    # se importa una librería de python para obener números al azar (random)\n",
    "length = 10\n",
    "randomlist = random.sample(range(-50, 50), length)\n",
    "# al usar el método sample que está en la librería random se generan 10 números que oscilan entre\n",
    "# -50 y 50\n",
    "print(randomlist)"
   ]
  },
  {
   "cell_type": "code",
   "execution_count": null,
   "id": "407427fb",
   "metadata": {},
   "outputs": [],
   "source": [
    "# Es possible agregar valores al final de una lista (append), en alguna posición (insert),\n",
    "# o quitarlos (pop):\n",
    "print(b_list)\n",
    "b_list.append('dwarf')    # agrega\n",
    "print (b_list) \n",
    "b_list.insert(1, 'red')   # inserta y sustituye \n",
    "print(b_list)\n",
    "b_list.pop(2)             # elimina de una posición\n",
    "print(b_list)"
   ]
  },
  {
   "cell_type": "code",
   "execution_count": null,
   "id": "80731094",
   "metadata": {},
   "outputs": [],
   "source": [
    "# También es possible eliminar el primer elemento X de un objeto en particular (remove)\n",
    "b_list.remove('baz')\n",
    "print(b_list)"
   ]
  },
  {
   "cell_type": "code",
   "execution_count": null,
   "id": "56ccf4d3",
   "metadata": {},
   "outputs": [],
   "source": [
    "# O checar si un elemento está (in)  o no  (not in) presente:  \n",
    "'dwarf' in b_list   # o bien usar: 'dwarf' not in b_list   "
   ]
  },
  {
   "cell_type": "code",
   "execution_count": null,
   "id": "20a2103e",
   "metadata": {},
   "outputs": [],
   "source": [
    "# Para concatenar listas:\n",
    "[4, None, 'foo'] + [7, 8, (2, 3)]   "
   ]
  },
  {
   "cell_type": "code",
   "execution_count": null,
   "id": "2adc10f3",
   "metadata": {},
   "outputs": [],
   "source": [
    "# Agregar varios elementos a una lista existente (extend):\n",
    "x = [4, None, 'foo']  \n",
    "x.extend([7, 8, (2, 3)])    # Notar que la lista también puede contener objetos de distinto tipo\n",
    "x    "
   ]
  },
  {
   "cell_type": "code",
   "execution_count": null,
   "id": "c5abab75",
   "metadata": {},
   "outputs": [],
   "source": [
    "# Ordenar una lista  (sort) –en orden ascendente o a partir de algún criterio (key):\n",
    "a = [7, 2, 5, 1, 3]   \n",
    "a.sort()   \n",
    "a  "
   ]
  },
  {
   "cell_type": "code",
   "execution_count": null,
   "id": "671ec4ff",
   "metadata": {},
   "outputs": [],
   "source": [
    "a.sort(reverse=True)  # en orden descendente\n",
    "a"
   ]
  },
  {
   "cell_type": "code",
   "execution_count": null,
   "id": "0e0ad24f",
   "metadata": {},
   "outputs": [],
   "source": [
    "# Otra alternativa para ordenar sería:\n",
    "sorted([7, 1, 2, 6, 0, 3, 2])  "
   ]
  },
  {
   "cell_type": "code",
   "execution_count": null,
   "id": "e19c6b3f",
   "metadata": {},
   "outputs": [],
   "source": [
    "# Y en un sentido inverso\n",
    "list(reversed(range(10))) "
   ]
  },
  {
   "cell_type": "code",
   "execution_count": null,
   "id": "ade5df93",
   "metadata": {},
   "outputs": [],
   "source": [
    "# Un ejemplo usando un criterio\n",
    "b = ['saw', 'small', 'He', 'foxes', 'six']  \n",
    "b.sort(key=len)     # a partir de la longitud de un str.\n",
    "b "
   ]
  },
  {
   "cell_type": "code",
   "execution_count": null,
   "id": "a2b1cda7",
   "metadata": {},
   "outputs": [],
   "source": [
    "# Pueden elegirse segmentos de una lista –slicing—  y hacerse asignaciones\n",
    "seq = [7, 2, 3, 7, 5, 6, 0, 1]  \n",
    "a = seq[1:5]                        # incluye de la posición 1 a la 4 \n",
    "print(a)\n",
    "seq[3:4] = [6, 3]               # se hace una asignación de dos valores entre posición 3 y 4  \n",
    "print(seq)   "
   ]
  },
  {
   "cell_type": "code",
   "execution_count": null,
   "id": "489a41f8",
   "metadata": {},
   "outputs": [],
   "source": [
    "# Pueden omitirse los índices iniciales y finales:\n",
    "seq[:5]               # de la posición 0 a la 4\n",
    "print(seq[:5])\n",
    "print(seq)            # notar que el objeto seq se mantiene inalterado\n",
    "seq[3:]               # de la posición 3 al final        "
   ]
  },
  {
   "cell_type": "code",
   "execution_count": null,
   "id": "862ce031",
   "metadata": {},
   "outputs": [],
   "source": [
    "# Se pueden omitir valores salteados  \n",
    "seq[::2]            # se mantienen cada dos empezando en posición 0 "
   ]
  },
  {
   "cell_type": "code",
   "execution_count": null,
   "id": "49c5f909",
   "metadata": {},
   "outputs": [],
   "source": [
    "# Una aplicación de las listas es en la creación de iteradores\n",
    "# En un for tradicional se van tomando elementos de una secuencia (lista) para hacer algo con ellos\n",
    "coleccion = ['a', 'b', 'c', 'd', 'e', 'f']\n",
    "i = 0\n",
    "for valor in coleccion:\n",
    "     print(i, valor)\n",
    "     i += 1               # se crea un índice asociado a la lista"
   ]
  },
  {
   "cell_type": "code",
   "execution_count": null,
   "id": "bf5ebf63",
   "metadata": {},
   "outputs": [],
   "source": [
    "# Con enumerate también se resguarda el valor de un índice de la secuencia\n",
    "for j, valor in enumerate(coleccion):    # j corresponde al valor del índice\n",
    "    print (j , valor)                    # por lo tanto nos ahorramos construir el índice"
   ]
  },
  {
   "cell_type": "markdown",
   "id": "73e76849",
   "metadata": {},
   "source": [
    "### Para una explicación de los distintos métodos de listas en Python consultar:\n",
    "https://docs.python.org/3/tutorial/datastructures.html"
   ]
  },
  {
   "cell_type": "markdown",
   "id": "78e0d079",
   "metadata": {},
   "source": [
    "## (3) Diccionarios"
   ]
  },
  {
   "cell_type": "markdown",
   "id": "445e591b",
   "metadata": {},
   "source": [
    "La estructura más flexible de Python son los diccionarios, los que presentan una llave (key) \n",
    "y un valor –separados por dos puntos –; se crean utilizando paréntesis cursivos; \n",
    "pueden incluir todo tipo de objetos."
   ]
  },
  {
   "cell_type": "code",
   "execution_count": null,
   "id": "856d52ce",
   "metadata": {},
   "outputs": [],
   "source": [
    "# veamos un ejemplo\n",
    "d1 = {'a' : 'some value', 'b' : [1, 2, 3, 4]}\n",
    "d1"
   ]
  },
  {
   "cell_type": "code",
   "execution_count": null,
   "id": "15d7f067",
   "metadata": {},
   "outputs": [],
   "source": [
    "# Se pueden agregar y cambiar elementos indicando  la llave correspondiente:\n",
    "d1[7] = 'an integer'     # se agrega un tercer elemento cuya key es 7\n",
    "d1 "
   ]
  },
  {
   "cell_type": "code",
   "execution_count": null,
   "id": "aa30a956",
   "metadata": {},
   "outputs": [],
   "source": [
    "# Pueden eliminarse elementos indicando la llave: \n",
    "del d1[7]\n",
    "print(d1)\n",
    "d1.popitem()     # elimina el último elemento\n",
    "print(d1)\n",
    "d1.pop('a')\n",
    "print(d1)"
   ]
  },
  {
   "cell_type": "code",
   "execution_count": null,
   "id": "1ce288f4",
   "metadata": {},
   "outputs": [],
   "source": [
    "# La llave o los valores pueden usarse como iteradores: dict.keys()  dict.values()\n",
    "d1 = {'a' : 'some value', 'b' : [1, 2, 3, 4]}\n",
    "print(list(d1.keys()))\n",
    "print(list(d1.values()))"
   ]
  },
  {
   "cell_type": "code",
   "execution_count": null,
   "id": "0ae6bcb1",
   "metadata": {},
   "outputs": [],
   "source": [
    "# Pueden actualizarse:     \n",
    "d1.update({'b' : 'foo', 'c' : 12})\n",
    "d1   # preserva las llaves que no cambian"
   ]
  },
  {
   "cell_type": "code",
   "execution_count": null,
   "id": "4b40c64c",
   "metadata": {},
   "outputs": [],
   "source": [
    "# Pueden crearse diccionarios a partir de iteraciones:\n",
    "mapping = {}\n",
    "key_list = ('uno', 'dos')\n",
    "value_list = (1 , 2) \n",
    "for key, value in zip(key_list, value_list):    # zip vincula dos lista en el iterador\n",
    "     mapping[key] = value                       # el key lo toma de la primera lista\n",
    "mapping"
   ]
  },
  {
   "cell_type": "code",
   "execution_count": null,
   "id": "c5f0d4ad",
   "metadata": {},
   "outputs": [],
   "source": [
    "# Un procedimiento más compacto, mediante zip\n",
    "mapping = dict(zip(range(5), reversed(range(5))))\n",
    "mapping"
   ]
  },
  {
   "cell_type": "code",
   "execution_count": null,
   "id": "b356ec9d",
   "metadata": {},
   "outputs": [],
   "source": [
    "# Ejercicio: Queremos clasificar los elementos de una lista por categorías:\n",
    "words = ['apple', 'bat', 'bar', 'atom', 'book']     # en este caso a partir de la letra inicial\n",
    "by_letter = {}                          # defino el diccionario\n",
    "for word in words:\n",
    "        letter = word[0]                #le asigna la primera letra de la palabra apple\n",
    "        if letter not in by_letter:     # pregunta si la llave (letra) ya existe en diccionario\n",
    "            by_letter[letter] = [word]  # establecemos la letra como key y hacemos primera asignación\n",
    "        else:\n",
    "          by_letter[letter].append(word) # de existr la key agregamos una palabra más\n",
    "print (by_letter)"
   ]
  },
  {
   "cell_type": "code",
   "execution_count": null,
   "id": "9a489f51",
   "metadata": {},
   "outputs": [],
   "source": [
    "# Puede hacerse con un método del modulo de colecciones de python (defaultdict) \n",
    "from collections import defaultdict   # hay que importarlo\n",
    "by_letter = defaultdict(list)         # creación del diccionario a partir de una lista\n",
    "for word in words:\n",
    "   by_letter[word[0]].append(word)     # aquí se sintetiza al omitir if\n",
    "print(by_letter)"
   ]
  },
  {
   "cell_type": "markdown",
   "id": "0b25509a",
   "metadata": {},
   "source": [
    "### Para mayores detalles sobre los diccionarios en Python consultar\n",
    "https://realpython.com/python-dicts/"
   ]
  },
  {
   "cell_type": "markdown",
   "id": "02cdddd7",
   "metadata": {},
   "source": [
    "## (4)  Compresión de instrucciones con listas"
   ]
  },
  {
   "cell_type": "markdown",
   "id": "8739865d",
   "metadata": {},
   "source": [
    "La compresión de listas permite crear una lista a partir de filtros en una colección de datos.\n",
    "\n",
    "Sintáxis: [expr for val in collection if condition]    # expr es la operación a aplicar"
   ]
  },
  {
   "cell_type": "code",
   "execution_count": null,
   "id": "f376c78c",
   "metadata": {},
   "outputs": [],
   "source": [
    "# Equivale al siguiente loop:\n",
    "# result = []\n",
    "# for val in collection:\n",
    "#      if condition:                 la condición es el filtro\n",
    "#         result.append(expr)"
   ]
  },
  {
   "cell_type": "code",
   "execution_count": null,
   "id": "5ec84b36",
   "metadata": {},
   "outputs": [],
   "source": [
    "# Ejemplo:\n",
    "strings = ['a', 'as', 'bat', 'car', 'dove', 'python']   # se crea una lista\n",
    "[x.upper() for x in strings if len(x) > 2] # la operación consiste en poner mayúsculas en las \n",
    "                                           # palabras (expresión) de una colección\n",
    "                                           # que tienen más de dos letras (condición)"
   ]
  },
  {
   "cell_type": "code",
   "execution_count": null,
   "id": "220fba23",
   "metadata": {},
   "outputs": [],
   "source": [
    "# Puede aplicarse en otras estructuras de datos\n",
    "# En ocasiones la operación puede darse sin condicionamiento alguno\n",
    "loc_mapping = {index : val for index, val in enumerate(strings)}   # se usa un diccionario\n",
    "loc_mapping\n",
    "# los valores del diccionario se definen con los elementos de la lista de strings"
   ]
  }
 ],
 "metadata": {
  "kernelspec": {
   "display_name": "Python 3 (ipykernel)",
   "language": "python",
   "name": "python3"
  },
  "language_info": {
   "codemirror_mode": {
    "name": "ipython",
    "version": 3
   },
   "file_extension": ".py",
   "mimetype": "text/x-python",
   "name": "python",
   "nbconvert_exporter": "python",
   "pygments_lexer": "ipython3",
   "version": "3.9.7"
  }
 },
 "nbformat": 4,
 "nbformat_minor": 5
}
