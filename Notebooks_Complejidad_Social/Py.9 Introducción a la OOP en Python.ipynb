{
 "cells": [
  {
   "cell_type": "markdown",
   "id": "ccb59aa9",
   "metadata": {},
   "source": [
    "# Taller de programación en Python: Complejidad Social y Modelos Computacionales\n",
    "## Lección Py.9 Introducción a la Programación Orientada a Objetos en Python\n",
    "### Impartido por: Gonzalo Castañeda\n",
    "Basado en: Klein, Bernd. 2022, Intro to Object Oriented Programming, python-course.eu\n",
    "   https://python-course.eu/oop/\n",
    "   \n",
    "El libro de Python  Cap. 6. https://ellibrodepython.com/"
   ]
  },
  {
   "cell_type": "markdown",
   "id": "bea76d0a",
   "metadata": {},
   "source": [
    "La programación orientada a objetos (OOP) es un paradigma de programación basado en la idea de objetos computacionales que aglutinan datos (variables con sus valores) y métodos\n",
    "(códigos que hacen algún cálculo con esos datos). A los datos se les refiere como atributos. Cómo\n",
    "en OOP los programas se conforman a partir de un conjunto de objetos que interactúan entre sí a través de sus métodos, se trata de un esquema de programación ideal para la instrumentación de ABM."
   ]
  },
  {
   "cell_type": "code",
   "execution_count": null,
   "id": "587df48c",
   "metadata": {},
   "outputs": [],
   "source": [
    "# De hecho en Python siempre estamos trabajando con objetos de un cierto tipo (instancias de una \n",
    "# cierta clase). Ejemplos de clases son listas, enteros, cadenas, diccionarios y funciones. \n",
    "# Por ejemplo:\n",
    "x = 42  # es una instancia de la clase int\n",
    "type(x)"
   ]
  },
  {
   "cell_type": "code",
   "execution_count": null,
   "id": "6212a1ec",
   "metadata": {},
   "outputs": [],
   "source": [
    "# Pero esta clase tiene muchos otros objetos (instancias)\n",
    "y = 56\n",
    "type(y)"
   ]
  },
  {
   "cell_type": "code",
   "execution_count": null,
   "id": "3103674b",
   "metadata": {},
   "outputs": [],
   "source": [
    "# Una función también es un objeto de la clase 'function'\n",
    "def f(x):\n",
    "    return x + 1\n",
    "type(f)"
   ]
  },
  {
   "cell_type": "code",
   "execution_count": null,
   "id": "b093041e",
   "metadata": {},
   "outputs": [],
   "source": [
    "# Así como también lo son las librerías, las que forman parte de la clase 'module'\n",
    "import math\n",
    "type(math)"
   ]
  },
  {
   "cell_type": "code",
   "execution_count": null,
   "id": "4fe5c832",
   "metadata": {},
   "outputs": [],
   "source": [
    "# Como bien sabemos los objetos de una clase presentan una serie de métodos que permiten\n",
    "# hacer cálculos, esto es lo que sucede con las listas.\n",
    "x= [3,6,9]           # La lista es la clase\n",
    "y = [45, \"abc\"]      # x, y son instancias (objetos) de la lista\n",
    "print(x[1])\n",
    "x[1] = 99             # Este es un método de asignación            \n",
    "x.append(42)          # Este es un método que agrega un elemento al final de la lista\n",
    "last = y.pop()        # Este es un método que elimina el primer elemento\n",
    "print(last)\n",
    "print (x)"
   ]
  },
  {
   "cell_type": "markdown",
   "id": "a74fca52",
   "metadata": {},
   "source": [
    "La clase más sencilla de Python es la clase vacía, la cual carece de métodos pero que permite\n",
    "asociar datos a instancias de la clase"
   ]
  },
  {
   "cell_type": "code",
   "execution_count": null,
   "id": "b204a31e",
   "metadata": {},
   "outputs": [],
   "source": [
    "# Creando una clase vacía:\n",
    "class Perro:\n",
    "    pass           # con pass declaramos que es del tipo vacía\n",
    "# Establecida la clase, podemos crear sus instancias:\n",
    "perro1 = Perro()"
   ]
  },
  {
   "cell_type": "code",
   "execution_count": null,
   "id": "b159ae55",
   "metadata": {},
   "outputs": [],
   "source": [
    "# Con clases vacías es posible establecer distintos tipos de datos sin que sean declarados en la\n",
    "# clase\n",
    "perro1.nombre = 'Toby'      # dato que tienen que ver con los 'nombres' de las instancias de perro\n",
    "print(perro1.nombre)\n",
    "perro1.raza = 'Bulldog'     # dato que tiene que ver con las razas' de las instancia de perro\n",
    "print(perro1.raza)"
   ]
  },
  {
   "cell_type": "code",
   "execution_count": null,
   "id": "7eb2a081",
   "metadata": {},
   "outputs": [],
   "source": [
    "# Veamos otro ejemplo de una clase Robot vacía, en la que podemos crear distintas instancias\n",
    "# de la misma clase, y a cada una asignarle datos diferentes:\n",
    "class Robot:\n",
    "    pass\n",
    "x = Robot()                   # se invoca la primera instancia y se le asigna una variable\n",
    "y = Robot()                   # ahora la segunda instancia\n",
    "x.name = \"Marvin\"             # Nombre de la instancia x\n",
    "x.build_year = \"1979\"\n",
    "y.name = \"Caliban\"            # nombre de la intancia y\n",
    "y.build_year = \"1993\"\n",
    "print(x.name)                 # imprimimos el nombre de la instancia x"
   ]
  },
  {
   "cell_type": "code",
   "execution_count": null,
   "id": "d92caece",
   "metadata": {},
   "outputs": [],
   "source": [
    "# Con un método de clases especial, generamos un diccionario con todas los atributos y datos asociados\n",
    "x.__dict__"
   ]
  },
  {
   "cell_type": "markdown",
   "id": "16b480a1",
   "metadata": {},
   "source": [
    "## (1) Clases convencionales: construcción de instancias, sus atributos y métodos"
   ]
  },
  {
   "cell_type": "markdown",
   "id": "5a48364b",
   "metadata": {},
   "source": [
    "Vamos ahora a definir instancias y sus atributos usando una clase convencional:\n",
    "(i) Atributos de instancia: perenecen a la instancia de cada clase (i.e., están encapsulados)\n",
    "(ii) Atributos de la clase: pertenecen a la clase, así es que son comunes a toda la clase"
   ]
  },
  {
   "cell_type": "code",
   "execution_count": null,
   "id": "5291ed3b",
   "metadata": {},
   "outputs": [],
   "source": [
    "class Perro:\n",
    "    # En este caso siempre se usa método __init__  para construir objetos de esta clase, \n",
    "    # el doble subrayado indica que se trata un tipo de método (algunos les llaman métodos mágicos)\n",
    "    def __init__(self, nombre, raza):             # el argumento self indica que se hace referencia\n",
    "                                                  # a la instancia particuar que se está generando\n",
    "        print(f\"Creando perro de nombre {nombre} y raza {raza}\")  \n",
    "                     # el formato f permite imprimir con valores distintos de las variables\n",
    "        # Atributos de instancia usn el prefijo self.___\n",
    "        self.nombre = nombre     # nombre y raza son tomados de los argumentos incluidos al\n",
    "        self.raza = raza         # generar la instancia"
   ]
  },
  {
   "cell_type": "code",
   "execution_count": null,
   "id": "7c30a6f3",
   "metadata": {},
   "outputs": [],
   "source": [
    "# Invocamos a la clase para crear una instancia: perro1\n",
    "perro1 = Perro(\"Toby\", \"Bulldog\")  # creamos un perro de nombre Toby, y raza Bulldog --argumentos--\n",
    "print(type(perro1)) # señala el tipo de clase "
   ]
  },
  {
   "cell_type": "code",
   "execution_count": null,
   "id": "b27b0a9a",
   "metadata": {},
   "outputs": [],
   "source": [
    "# Con un print podemos acceder a los datos de una instancia (i.e., le pedimos permiso para verlos)\n",
    "# la sintaxis es la siguiente: nombre_objeto.nombre_variable\n",
    "print(perro1.nombre) # Toby\n",
    "print(perro1.raza)   # Bulldog"
   ]
  },
  {
   "cell_type": "code",
   "execution_count": null,
   "id": "4c74e4d6",
   "metadata": {},
   "outputs": [],
   "source": [
    "# Mientras que los atributos de la instancia son propios de cada objeto, los atributos de la clase\n",
    "# son comunes para todos los objetos de la clase (e.g., todos los perros creados con la clase Perro)\n",
    "class Perro:\n",
    "    especie = 'mamífero'       # Atributo de clase, notar que no se usa el self\n",
    "    # El método __init__ es llamado para construir objetos\n",
    "    def __init__(self, nombre, raza):\n",
    "        print(f\"Creando perro de nombre {nombre} y raza {raza}\")\n",
    "        self.nombre = nombre   # Estos dos si son atributos asociados a un objeto en particular\n",
    "        self.raza = raza\n",
    "# Ojo notar en la sintaxis la identación"
   ]
  },
  {
   "cell_type": "code",
   "execution_count": null,
   "id": "e113a171",
   "metadata": {},
   "outputs": [],
   "source": [
    "# Podemo acceder al valor de atributo de clase sin crear el objeto:\n",
    "print(Perro.especie)"
   ]
  },
  {
   "cell_type": "code",
   "execution_count": null,
   "id": "b5fac310",
   "metadata": {},
   "outputs": [],
   "source": [
    "# Aunque también lo podemos hacer desde el objeto:\n",
    "perro1 = Perro(\"Toby\", \"Bulldog\")\n",
    "perro1.especie     # es decir, los atributos de la clase también pueden ser invocados por la instancia"
   ]
  },
  {
   "cell_type": "markdown",
   "id": "b3dd802f",
   "metadata": {},
   "source": [
    "Para definir los métodos de una clase no podemos usar una clase vacía, tenemos que usar \n",
    "una clase convencional. En este caso los métodos serán 'ladrar' y 'caminar'; el segundo método\n",
    "requiere un argumento = número de pasos dados"
   ]
  },
  {
   "cell_type": "code",
   "execution_count": null,
   "id": "75d57079",
   "metadata": {},
   "outputs": [],
   "source": [
    "class Perro:\n",
    "    # Atributo de clase\n",
    "    especie = 'mamífero'\n",
    "    \n",
    "    # El método __init__ es llamado al crear el objeto\n",
    "    def __init__(self, nombre, raza):\n",
    "        print(f\"Creando perro de nombre {nombre} y raza {raza}\")\n",
    "        # Atributos de la instancia\n",
    "        self.nombre = nombre\n",
    "        self.raza = raza\n",
    "        \n",
    "    # Ahora enlistamos los métodos asociados a la clase (checar nivel de la identación)\n",
    "    # Aunque ahora no es el caso, es común que los métodos modifiquen el valor de los atributos\n",
    "    def ladra(self):           # Notar que los métodos no son otra cosa que funciones del tipo def\n",
    "        print(\"Guau\")\n",
    "\n",
    "    def camina(self, pasos):                    # Este método requiere de un argumento adicional\n",
    "        print(f\"Caminando {pasos} pasos\")"
   ]
  },
  {
   "cell_type": "code",
   "execution_count": null,
   "id": "8ff6e13d",
   "metadata": {},
   "outputs": [],
   "source": [
    "# Una vez declarada la clase, sus atributos y métodos, los podemos invocar de la siguiente manera:\n",
    "perro1 = Perro(\"Toby\", \"Bulldog\")  # creamos la instancia\n",
    "perro1.ladra()                     # invocamos un método de la clase\n",
    "perro1.camina(10)                  # en este caso indicamos el valor del argumento"
   ]
  },
  {
   "cell_type": "markdown",
   "id": "7e9dba72",
   "metadata": {},
   "source": [
    "Al igual que en los atributos, también hay métodos de clase y de instancia.\n",
    "(i) Los métodos de instancia reciben como agumento de entrada self y otos argumentos; sólo son\n",
    "válidos para esa instancia"
   ]
  },
  {
   "cell_type": "code",
   "execution_count": null,
   "id": "19e72f15",
   "metadata": {},
   "outputs": [],
   "source": [
    "# veamos un ejemplo:\n",
    "class Clase:\n",
    "    def metodo(self, arg1, arg2):         #sabemos que es un método de la instancia por el self \n",
    "        return 'Método normal', self"
   ]
  },
  {
   "cell_type": "code",
   "execution_count": null,
   "id": "04dda110",
   "metadata": {},
   "outputs": [],
   "source": [
    "# Una vez creado el objeto pueden ser llamados sus métodos con nombre_objeto.nombre_método\n",
    "objeto1 = Clase()         # Primero tenemos que crear al objeto para después llamar a sus métodos\n",
    "objeto1.metodo(\"a\", \"b\")\n",
    "# Estos métodos pueden acceder y modificar los atributos del objeto, aunque aquí no lo hacemos. "
   ]
  },
  {
   "cell_type": "markdown",
   "id": "45af52bf",
   "metadata": {},
   "source": [
    "(ii) Métodos de clase. En contraste con los métodos de instancia, los métodos de clase \n",
    "reciben como argumento 'cls', que hace referencia a la clase. \n",
    "Esto significa que pueden acceder a datos de la clase pero no de la instancia."
   ]
  },
  {
   "cell_type": "code",
   "execution_count": null,
   "id": "6e71d348",
   "metadata": {},
   "outputs": [],
   "source": [
    "# Esta sería la sintaxis de un método de clase\n",
    "class Clase:\n",
    "    @classmethod\n",
    "    def metododeclase(cls):\n",
    "        return 'Método de clase', cls"
   ]
  },
  {
   "cell_type": "code",
   "execution_count": null,
   "id": "b7f8bbd8",
   "metadata": {},
   "outputs": [],
   "source": [
    "# Para invocarlo se usa la siguientes sintaxis:  nombre_clase.nombre_método()\n",
    "Clase.metododeclase()"
   ]
  },
  {
   "cell_type": "code",
   "execution_count": null,
   "id": "c9785f02",
   "metadata": {},
   "outputs": [],
   "source": [
    "# pero también se pueden invocar a través de una instancia previamente creada\n",
    "objeto1 = Clase()\n",
    "objeto1.metododeclase()         # aunque objeto1 es una instancia, 'metodoclase' es un método de\n",
    "                                # clase no de instancia"
   ]
  },
  {
   "cell_type": "markdown",
   "id": "b097af1d",
   "metadata": {},
   "source": [
    "## (2) Herencias en Python"
   ]
  },
  {
   "cell_type": "markdown",
   "id": "74bf496c",
   "metadata": {},
   "source": [
    "Mediante el proceso de herencia es posible crear una clase-hija que hereda los métodos y atributos \n",
    "de una clase-padre. Asimismo, la clase-hija puede replantear los métodos heredados, además\n",
    "de suscribir algunos nuevos"
   ]
  },
  {
   "cell_type": "code",
   "execution_count": null,
   "id": "e5935d08",
   "metadata": {},
   "outputs": [],
   "source": [
    "# Por ejemplo: Todos los perros son animales, pero no al revés\n",
    "# Definimos una clase-padre\n",
    "class Animal:\n",
    "    pass\n",
    "\n",
    "# Conectamos a la clase-hija con la clase-padre haciendo referencia al padre con un argumento\n",
    "class Perro(Animal):\n",
    "    pass\n",
    "print(Perro.__bases__)  # con este método mágico detectamos el ancestro de la clase perro"
   ]
  },
  {
   "cell_type": "markdown",
   "id": "82b093e1",
   "metadata": {},
   "source": [
    "Este procedimiento es muy útil cuando tenemos clases que se parecen entre sí, pero tienen \n",
    "ciertas particularidades. En otras palabras, en vez de definir clases independientes para cada animal, optamos por especificar los elementos comunes de todas estas especies, los que se aglutinan en una clase-padre que las clases-hijas heredan"
   ]
  },
  {
   "cell_type": "code",
   "execution_count": null,
   "id": "01135d62",
   "metadata": {},
   "outputs": [],
   "source": [
    "# Veamos un ejemplo\n",
    "class Animal:\n",
    "    def __init__(self, especie, edad):\n",
    "        self.especie = especie              # Estos atributos corresponden a la clase Animal\n",
    "        self.edad = edad\n",
    "\n",
    "    # Método genérico pero con implementación particular: Los perros ladran, las abejas zumban y \n",
    "    # los caballos relinchan \n",
    "    def hablar(self):\n",
    "        # Método vacío\n",
    "        pass\n",
    "\n",
    "    # Método genérico pero con implementación particular: Unos animales se mueven caminando, \n",
    "    # otros volando\n",
    "    def moverse(self):\n",
    "        # Método vacío\n",
    "        pass\n",
    "\n",
    "    # Método genérico con la misma implementación\n",
    "    def describeme(self):\n",
    "        print(\"Soy un Animal del tipo\", type(self).__name__)"
   ]
  },
  {
   "cell_type": "markdown",
   "id": "b66de411",
   "metadata": {},
   "source": [
    "La clase genérica Animal describe atributos y funcionalidades \n",
    "para todo tipo de animal. Ahora creamos una clase Perro que hereda del Animal."
   ]
  },
  {
   "cell_type": "code",
   "execution_count": null,
   "id": "afa76190",
   "metadata": {},
   "outputs": [],
   "source": [
    "# Perro hereda de Animal\n",
    "class Perro(Animal):\n",
    "    pass                    # Aquí hacemos referencia a una clase-hija vacía\n",
    "                            # por lo que los métodos y atributos disponibles son heredados deñ\n",
    "                            # la clase-padre\n",
    "perro1 = Perro('mamífero', 10)    # los dos argumentos requeridos son indicados en el método\n",
    "                                  # constructor de la clase-padre\n",
    "perro1.describeme()               # Describeme es una función de Animal, no de perro, por lo que\n",
    "                                  # es heredada"
   ]
  },
  {
   "cell_type": "markdown",
   "id": "3a8dfd53",
   "metadata": {},
   "source": [
    "Ahora vamos a crear varios animales, como clases-hijas, y reemplazar algunos de los métodos que habían sido definidos en la clase Animal: hablar. moverse, ya que cada animal se comporta de una \n",
    "manera distinta. Además creamos nuevos métodos que se agregan a los ya heredados, \n",
    "como en el caso de la Abeja con picar()"
   ]
  },
  {
   "cell_type": "code",
   "execution_count": null,
   "id": "37da4cbc",
   "metadata": {},
   "outputs": [],
   "source": [
    "# Veamos una colección de clases-hija\n",
    "class Perro(Animal):       # Primera clase hija\n",
    "    def hablar(self):      # va a reemplazar al metodo equivalente en la clase-padre\n",
    "        print(\"Guau!\")     # ya es particular del perro\n",
    "    def moverse(self):\n",
    "        print(\"Caminando con 4 patas\")\n",
    "\n",
    "class Vaca(Animal):       #Segunda clase hija\n",
    "    def hablar(self):\n",
    "        print(\"Muuu!\")\n",
    "    def moverse(self):\n",
    "        print(\"Caminando con 4 patas\")\n",
    "\n",
    "class Abeja(Animal):\n",
    "    def hablar(self):\n",
    "        print(\"Bzzzz!\")\n",
    "    def moverse(self):       \n",
    "        print(\"Volando\")\n",
    "\n",
    "    # También podemos crear nuevos métodos que son específicos para una clase-hija\n",
    "    def picar(self):      # Este método no existe en la clase Animal, por lo que es solo propia\n",
    "        print(\"Picar!\")   # de la clase Abeja"
   ]
  },
  {
   "cell_type": "markdown",
   "id": "2543d219",
   "metadata": {},
   "source": [
    "En síntesis:\n",
    "   (i) Heredados directamente de la clase padre: describeme()  -no se particulariza\n",
    "   (ii) Heredados de la clase padre pero modificados: hablar() y moverse()  -se adaptan\n",
    "   (iii) Creados en la clase hija ya que no existentes en la clase padre: picar()"
   ]
  },
  {
   "cell_type": "code",
   "execution_count": null,
   "id": "f253d934",
   "metadata": {},
   "outputs": [],
   "source": [
    "# A continuación los invocamos\n",
    "perro1 = Perro('mamífero', 10)   # el método de construcción se define a nivel del Animal\n",
    "vaca1 = Vaca('mamífero', 23)\n",
    "abeja1 = Abeja('insecto', 1)\n",
    "\n",
    "perro1.hablar()                  # método de la clase-hia que reemplaza a la del padre\n",
    "vaca1.hablar()\n",
    "\n",
    "vaca1.describeme()               # Método de clase-padre generalizado\n",
    "abeja1.describeme()\n",
    "\n",
    "abeja1.picar()                   # Método a nivel clase-hija"
   ]
  },
  {
   "cell_type": "markdown",
   "id": "2f3113fd",
   "metadata": {},
   "source": [
    "Tal vez queramos que nuestro Perro tenga un parámetro extra en el constructor, como podría ser \n",
    "el dueño. Para realizar esto tenemos dos alternativas:\n",
    "\n",
    "(i) Podemos crear un  __init__  diferente al nivel de la clase-padre y establecemos de nueva cuenta todas las variables, una a una.\n",
    "(ii) Podemos usar super() en la clase-hija para llamar al __init__ de la clase-padre que ya aceptaba \n",
    "la especie y edad, y asignamos la variable nueva al nivel de la clase-hija."
   ]
  },
  {
   "cell_type": "code",
   "execution_count": null,
   "id": "a54d0c5f",
   "metadata": {},
   "outputs": [],
   "source": [
    "# Veamos cómo quedarían las dos alternativas:\n",
    "class Perro(Animal):\n",
    "    def __init__(self, especie, edad, dueño):\n",
    "        # Alternativa (i), no la aplicamos en el Notebook, sólo la presentamos\n",
    "        # Los siguientes self.__  debería ir al nivel de la clase_padre:\n",
    "        # self.especie = especie\n",
    "        # self.edad = edad\n",
    "        # self.dueño = dueño  , aquí esta el nuevo atributo\n",
    "\n",
    "        # Alternativa (ii), ésta si la aplicamos en la celda del Notebook\n",
    "        super().__init__(especie, edad)    # este sería el adendum del método constructor\n",
    "        self.dueño = dueño"
   ]
  },
  {
   "cell_type": "code",
   "execution_count": null,
   "id": "e9e5c844",
   "metadata": {},
   "outputs": [],
   "source": [
    "# Invocamos\n",
    "perro1 = Perro('mamífero', 7, 'Luis')   # El tercer argumento corresponde al dueño\n",
    "                                        # En la alternativa (ii)  trata de una instancia creada\n",
    "perro1.especie                          # al nivel del Perro\n",
    "perro1.edad \n",
    "perro1.dueño                            # notar que variable de define al nivel de la clase Perro"
   ]
  },
  {
   "cell_type": "markdown",
   "id": "b37b9a88",
   "metadata": {},
   "source": [
    "En una herencia multiple, una clase hereda de varias clases-padre en vez de una sola.\n",
    "Por ejemplo, tenemos dos clases-padre Clase1 y Clase2, además de la  Clase3 que hereda de \n",
    "las dos anteriores."
   ]
  },
  {
   "cell_type": "code",
   "execution_count": null,
   "id": "f26043df",
   "metadata": {},
   "outputs": [],
   "source": [
    "# Herencia de dos padres:\n",
    "class Clase1:\n",
    "    pass\n",
    "class Clase2:\n",
    "    pass\n",
    "class Clase3(Clase1, Clase2):\n",
    "    pass"
   ]
  },
  {
   "cell_type": "code",
   "execution_count": null,
   "id": "bea2b76e",
   "metadata": {},
   "outputs": [],
   "source": [
    "# Jerarquía de herencias\n",
    "class Clase1:               # clase-abuelo\n",
    "    pass\n",
    "class Clase2(Clase1):       # Clase-padre\n",
    "    pass\n",
    "class Clase3(Clase2):       # Clase-hija\n",
    "    pass\n",
    "print(Clase3.__mro__)      # Con este método mágico ilustramos el linaje de la clase-hija"
   ]
  },
  {
   "cell_type": "markdown",
   "id": "ff7a0c3f",
   "metadata": {},
   "source": [
    "## (3) Encapsulamiento de datos: getters y setters"
   ]
  },
  {
   "cell_type": "markdown",
   "id": "a7813f8d",
   "metadata": {},
   "source": [
    "El proceso de encapsular datos en Python tiene que ver con la idea de que para accesar a cierto tipo\n",
    "de información y modificarla es necesario aplicar métodos específicos. Los métodos para accesar\n",
    "información son conocidos como 'getters'. Estos métodos no pueden cambiar los valores de los \n",
    "atributos de los agentes. Los métodos que si son usados para estos fines se conocen como 'setters' "
   ]
  },
  {
   "cell_type": "code",
   "execution_count": null,
   "id": "be1d06b0",
   "metadata": {},
   "outputs": [],
   "source": [
    "# En el siguiente ejemplo definimos una clase y utilizamos estos dos métodos para modificar \n",
    "# información de los agentes de una clase.\n",
    "class Robot:\n",
    "    def __init__(self, name=None): # el método constructor por default no establece nombre alguno \n",
    "        self.name = name           # el nombre (name) es el único atributo de esta clase  \n",
    "        \n",
    "    def say_hi(self):              # Como método se establece una función de saludar (say_hi)\n",
    "        if self.name:\n",
    "            print(\"Hola, soy \" + self.name)    # si tiene un nombre, saluda presentándose\n",
    "        else:\n",
    "            print(\"Hola, soy un robot sin nombre\")  # si no lo tiene, dice que es un robot anónimo\n",
    "            \n",
    "    def set_name(self, name):          # cremos un 'setter' para crear un nombre a los agentes\n",
    "        self.name = name\n",
    "        \n",
    "    def get_name(self):                # creamos un 'getter' para dar a conocer cuál es el nombre \n",
    "        return self.name               # del agente\n",
    "    \n",
    "x = Robot()                            # Estabecemos un  agente de la clase Robot anónimo\n",
    "x.set_name(\"Enrique\")                  # Con el setter le asignamos el nombre                    \n",
    "x.say_hi()                      # invocamos la función para saludar y vemos que sí le puso el nombre\n",
    "y = Robot()                            # Creamos un segundo agente sin nombre                  \n",
    "y.set_name(x.get_name())               # Usamos un getter para obtener el nombre del agente x\n",
    "                                       # y lo establecemos en agente y a través de un setter\n",
    "print(y.get_name())                    # Checamos que efectivamente esta operación ocurrió\n",
    "                                       # Ojo, el uso de setters y getters permite a un agente conocer\n",
    "                                       # información sobre otro, y si tiene sentido cambiarla "
   ]
  },
  {
   "cell_type": "code",
   "execution_count": null,
   "id": "97663c2f",
   "metadata": {},
   "outputs": [],
   "source": [
    "# En el ejercicio de arriba se aprecia que agente 'y' pregunta por el nombre de 'x', info que puede\n",
    "# usar para establecer su nombre. Sin embargo, un agente no puede cambiar los atributos del otro\n",
    "y.set_name('Juan')                     #Notar: el agente puede cambiar su propio nombre con el setter\n",
    "print(y.name)                          # 'y' puede cambiar su ropio nombre con el setter\n",
    "\n",
    "x.name = x.set_name(y.get_name)        # pero ese nombre no puede ser traído por y con un 'getter'\n",
    "print(x.name)                          # para modificar el nombre de 'x' con un setter\n",
    "                                       \n",
    "\n",
    "x.set_name('Luis')                     # Sólo 'x' puede cambiar su nombre\n",
    "print(x.name)             \n",
    "               "
   ]
  }
 ],
 "metadata": {
  "kernelspec": {
   "display_name": "Python 3 (ipykernel)",
   "language": "python",
   "name": "python3"
  },
  "language_info": {
   "codemirror_mode": {
    "name": "ipython",
    "version": 3
   },
   "file_extension": ".py",
   "mimetype": "text/x-python",
   "name": "python",
   "nbconvert_exporter": "python",
   "pygments_lexer": "ipython3",
   "version": "3.9.7"
  }
 },
 "nbformat": 4,
 "nbformat_minor": 5
}
